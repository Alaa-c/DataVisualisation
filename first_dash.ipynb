{
 "cells": [
  {
   "cell_type": "code",
   "execution_count": 8,
   "metadata": {},
   "outputs": [],
   "source": [
    "from dash import dcc, Dash,html\n",
    "from dash.dependencies import Input, Output\n",
    "import pandas as pd\n",
    "import plotly.express as px\n",
    "import dash_bootstrap_components as dbc\n",
    "import plotly.express as px\n",
    "import jupyter_dash"
   ]
  },
  {
   "cell_type": "code",
   "execution_count": 9,
   "metadata": {},
   "outputs": [
    {
     "data": {
      "text/html": [
       "<div>\n",
       "<style scoped>\n",
       "    .dataframe tbody tr th:only-of-type {\n",
       "        vertical-align: middle;\n",
       "    }\n",
       "\n",
       "    .dataframe tbody tr th {\n",
       "        vertical-align: top;\n",
       "    }\n",
       "\n",
       "    .dataframe thead th {\n",
       "        text-align: right;\n",
       "    }\n",
       "</style>\n",
       "<table border=\"1\" class=\"dataframe\">\n",
       "  <thead>\n",
       "    <tr style=\"text-align: right;\">\n",
       "      <th></th>\n",
       "      <th>Unnamed: 0</th>\n",
       "      <th>Unnamed: 0.1</th>\n",
       "      <th>title</th>\n",
       "      <th>Country</th>\n",
       "      <th>Running time (int)</th>\n",
       "      <th>Budget (float)</th>\n",
       "      <th>Box office (float)</th>\n",
       "      <th>Release date (datetime)</th>\n",
       "      <th>imdb</th>\n",
       "      <th>profit</th>\n",
       "      <th>year</th>\n",
       "      <th>director</th>\n",
       "    </tr>\n",
       "  </thead>\n",
       "  <tbody>\n",
       "    <tr>\n",
       "      <th>0</th>\n",
       "      <td>1</td>\n",
       "      <td>1</td>\n",
       "      <td>Snow White and the Seven Dwarfs</td>\n",
       "      <td>United States</td>\n",
       "      <td>83.0</td>\n",
       "      <td>1490000.0</td>\n",
       "      <td>4.180000e+08</td>\n",
       "      <td>12/21/1937</td>\n",
       "      <td>7.6</td>\n",
       "      <td>4.165100e+08</td>\n",
       "      <td>1937</td>\n",
       "      <td>David Hand (supervising</td>\n",
       "    </tr>\n",
       "    <tr>\n",
       "      <th>1</th>\n",
       "      <td>1</td>\n",
       "      <td>1</td>\n",
       "      <td>Snow White and the Seven Dwarfs</td>\n",
       "      <td>United States</td>\n",
       "      <td>83.0</td>\n",
       "      <td>1490000.0</td>\n",
       "      <td>4.180000e+08</td>\n",
       "      <td>12/21/1937</td>\n",
       "      <td>7.6</td>\n",
       "      <td>4.165100e+08</td>\n",
       "      <td>1937</td>\n",
       "      <td>William Cottrell</td>\n",
       "    </tr>\n",
       "    <tr>\n",
       "      <th>2</th>\n",
       "      <td>1</td>\n",
       "      <td>1</td>\n",
       "      <td>Snow White and the Seven Dwarfs</td>\n",
       "      <td>United States</td>\n",
       "      <td>83.0</td>\n",
       "      <td>1490000.0</td>\n",
       "      <td>4.180000e+08</td>\n",
       "      <td>12/21/1937</td>\n",
       "      <td>7.6</td>\n",
       "      <td>4.165100e+08</td>\n",
       "      <td>1937</td>\n",
       "      <td>Wilfred Jackson</td>\n",
       "    </tr>\n",
       "    <tr>\n",
       "      <th>3</th>\n",
       "      <td>1</td>\n",
       "      <td>1</td>\n",
       "      <td>Snow White and the Seven Dwarfs</td>\n",
       "      <td>United States</td>\n",
       "      <td>83.0</td>\n",
       "      <td>1490000.0</td>\n",
       "      <td>4.180000e+08</td>\n",
       "      <td>12/21/1937</td>\n",
       "      <td>7.6</td>\n",
       "      <td>4.165100e+08</td>\n",
       "      <td>1937</td>\n",
       "      <td>Larry Morey</td>\n",
       "    </tr>\n",
       "    <tr>\n",
       "      <th>4</th>\n",
       "      <td>1</td>\n",
       "      <td>1</td>\n",
       "      <td>Snow White and the Seven Dwarfs</td>\n",
       "      <td>United States</td>\n",
       "      <td>83.0</td>\n",
       "      <td>1490000.0</td>\n",
       "      <td>4.180000e+08</td>\n",
       "      <td>12/21/1937</td>\n",
       "      <td>7.6</td>\n",
       "      <td>4.165100e+08</td>\n",
       "      <td>1937</td>\n",
       "      <td>Perce Pearce</td>\n",
       "    </tr>\n",
       "    <tr>\n",
       "      <th>...</th>\n",
       "      <td>...</td>\n",
       "      <td>...</td>\n",
       "      <td>...</td>\n",
       "      <td>...</td>\n",
       "      <td>...</td>\n",
       "      <td>...</td>\n",
       "      <td>...</td>\n",
       "      <td>...</td>\n",
       "      <td>...</td>\n",
       "      <td>...</td>\n",
       "      <td>...</td>\n",
       "      <td>...</td>\n",
       "    </tr>\n",
       "    <tr>\n",
       "      <th>482</th>\n",
       "      <td>410</td>\n",
       "      <td>410</td>\n",
       "      <td>Maleficent: Mistress of Evil</td>\n",
       "      <td>United States</td>\n",
       "      <td>119.0</td>\n",
       "      <td>185000000.0</td>\n",
       "      <td>4.917000e+08</td>\n",
       "      <td>10/18/2019</td>\n",
       "      <td>6.6</td>\n",
       "      <td>3.067000e+08</td>\n",
       "      <td>2019</td>\n",
       "      <td>Joachim Rønning</td>\n",
       "    </tr>\n",
       "    <tr>\n",
       "      <th>483</th>\n",
       "      <td>413</td>\n",
       "      <td>413</td>\n",
       "      <td>Frozen II</td>\n",
       "      <td>United States</td>\n",
       "      <td>103.0</td>\n",
       "      <td>150000000.0</td>\n",
       "      <td>1.450000e+09</td>\n",
       "      <td>11/7/2019</td>\n",
       "      <td>6.9</td>\n",
       "      <td>1.300000e+09</td>\n",
       "      <td>2019</td>\n",
       "      <td>Chris Buck</td>\n",
       "    </tr>\n",
       "    <tr>\n",
       "      <th>484</th>\n",
       "      <td>413</td>\n",
       "      <td>413</td>\n",
       "      <td>Frozen II</td>\n",
       "      <td>United States</td>\n",
       "      <td>103.0</td>\n",
       "      <td>150000000.0</td>\n",
       "      <td>1.450000e+09</td>\n",
       "      <td>11/7/2019</td>\n",
       "      <td>6.9</td>\n",
       "      <td>1.300000e+09</td>\n",
       "      <td>2019</td>\n",
       "      <td>Jennifer Lee</td>\n",
       "    </tr>\n",
       "    <tr>\n",
       "      <th>485</th>\n",
       "      <td>416</td>\n",
       "      <td>416</td>\n",
       "      <td>Onward</td>\n",
       "      <td>United States</td>\n",
       "      <td>102.0</td>\n",
       "      <td>175000000.0</td>\n",
       "      <td>1.364000e+08</td>\n",
       "      <td>2/21/2020</td>\n",
       "      <td>7.4</td>\n",
       "      <td>-3.860000e+07</td>\n",
       "      <td>2020</td>\n",
       "      <td>Dan Scanlon</td>\n",
       "    </tr>\n",
       "    <tr>\n",
       "      <th>486</th>\n",
       "      <td>425</td>\n",
       "      <td>425</td>\n",
       "      <td>Mulan</td>\n",
       "      <td>United States</td>\n",
       "      <td>115.0</td>\n",
       "      <td>200000000.0</td>\n",
       "      <td>5.700000e+07</td>\n",
       "      <td>3/9/2020</td>\n",
       "      <td>7.6</td>\n",
       "      <td>-1.430000e+08</td>\n",
       "      <td>2020</td>\n",
       "      <td>Niki Caro</td>\n",
       "    </tr>\n",
       "  </tbody>\n",
       "</table>\n",
       "<p>487 rows × 12 columns</p>\n",
       "</div>"
      ],
      "text/plain": [
       "     Unnamed: 0  Unnamed: 0.1                            title        Country  \\\n",
       "0             1             1  Snow White and the Seven Dwarfs  United States   \n",
       "1             1             1  Snow White and the Seven Dwarfs  United States   \n",
       "2             1             1  Snow White and the Seven Dwarfs  United States   \n",
       "3             1             1  Snow White and the Seven Dwarfs  United States   \n",
       "4             1             1  Snow White and the Seven Dwarfs  United States   \n",
       "..          ...           ...                              ...            ...   \n",
       "482         410           410     Maleficent: Mistress of Evil  United States   \n",
       "483         413           413                        Frozen II  United States   \n",
       "484         413           413                        Frozen II  United States   \n",
       "485         416           416                           Onward  United States   \n",
       "486         425           425                            Mulan  United States   \n",
       "\n",
       "     Running time (int)  Budget (float)  Box office (float)  \\\n",
       "0                  83.0       1490000.0        4.180000e+08   \n",
       "1                  83.0       1490000.0        4.180000e+08   \n",
       "2                  83.0       1490000.0        4.180000e+08   \n",
       "3                  83.0       1490000.0        4.180000e+08   \n",
       "4                  83.0       1490000.0        4.180000e+08   \n",
       "..                  ...             ...                 ...   \n",
       "482               119.0     185000000.0        4.917000e+08   \n",
       "483               103.0     150000000.0        1.450000e+09   \n",
       "484               103.0     150000000.0        1.450000e+09   \n",
       "485               102.0     175000000.0        1.364000e+08   \n",
       "486               115.0     200000000.0        5.700000e+07   \n",
       "\n",
       "    Release date (datetime)  imdb        profit  year                 director  \n",
       "0                12/21/1937   7.6  4.165100e+08  1937  David Hand (supervising  \n",
       "1                12/21/1937   7.6  4.165100e+08  1937         William Cottrell  \n",
       "2                12/21/1937   7.6  4.165100e+08  1937          Wilfred Jackson  \n",
       "3                12/21/1937   7.6  4.165100e+08  1937              Larry Morey  \n",
       "4                12/21/1937   7.6  4.165100e+08  1937             Perce Pearce  \n",
       "..                      ...   ...           ...   ...                      ...  \n",
       "482              10/18/2019   6.6  3.067000e+08  2019          Joachim Rønning  \n",
       "483               11/7/2019   6.9  1.300000e+09  2019               Chris Buck  \n",
       "484               11/7/2019   6.9  1.300000e+09  2019             Jennifer Lee  \n",
       "485               2/21/2020   7.4 -3.860000e+07  2020              Dan Scanlon  \n",
       "486                3/9/2020   7.6 -1.430000e+08  2020                Niki Caro  \n",
       "\n",
       "[487 rows x 12 columns]"
      ]
     },
     "execution_count": 9,
     "metadata": {},
     "output_type": "execute_result"
    }
   ],
   "source": [
    "df1=pd.read_csv('./preprocessed_data.csv')\n",
    "df1"
   ]
  },
  {
   "cell_type": "code",
   "execution_count": 10,
   "metadata": {},
   "outputs": [],
   "source": [
    "app = jupyter_dash.JupyterDash(external_stylesheets=[dbc.themes.DARKLY])\n",
    "app.title = \"Dash1!\""
   ]
  },
  {
   "cell_type": "code",
   "execution_count": 11,
   "metadata": {},
   "outputs": [
    {
     "data": {
      "application/vnd.plotly.v1+json": {
       "config": {
        "plotlyServerURL": "https://plot.ly"
       },
       "data": [
        {
         "hovertemplate": "<b>%{hovertext}</b><br><br>Country=United States<br>Budget (float)=%{x}<br>Movie-Rating=%{y}<br>Running time (int)=%{marker.size}<extra></extra>",
         "hovertext": [
          "Snow White and the Seven Dwarfs",
          "Snow White and the Seven Dwarfs",
          "Snow White and the Seven Dwarfs",
          "Snow White and the Seven Dwarfs",
          "Snow White and the Seven Dwarfs",
          "Snow White and the Seven Dwarfs",
          "Pinocchio",
          "Pinocchio",
          "Pinocchio",
          "Pinocchio",
          "Pinocchio",
          "Pinocchio",
          "Pinocchio",
          "Fantasia",
          "Fantasia",
          "Fantasia",
          "Fantasia",
          "Fantasia",
          "Fantasia",
          "Fantasia",
          "Fantasia",
          "Fantasia",
          "Fantasia",
          "Fantasia",
          "Fantasia",
          "The Reluctant Dragon",
          "The Reluctant Dragon",
          "The Reluctant Dragon",
          "The Reluctant Dragon",
          "The Reluctant Dragon",
          "The Reluctant Dragon",
          "The Reluctant Dragon",
          "The Reluctant Dragon",
          "The Reluctant Dragon",
          "The Reluctant Dragon",
          "Dumbo",
          "Dumbo",
          "Dumbo",
          "Dumbo",
          "Dumbo",
          "Dumbo",
          "Dumbo",
          "Dumbo",
          "Bambi",
          "Bambi",
          "Bambi",
          "Bambi",
          "Bambi",
          "Bambi",
          "Bambi",
          "Bambi",
          "Bambi",
          "Saludos Amigos",
          "Saludos Amigos",
          "Saludos Amigos",
          "Saludos Amigos",
          "Saludos Amigos",
          "Victory Through Air Power",
          "Victory Through Air Power",
          "Victory Through Air Power",
          "Victory Through Air Power",
          "Victory Through Air Power",
          "Victory Through Air Power",
          "The Three Caballeros",
          "The Three Caballeros",
          "The Three Caballeros",
          "The Three Caballeros",
          "The Three Caballeros",
          "Make Mine Music",
          "Make Mine Music",
          "Make Mine Music",
          "Make Mine Music",
          "Make Mine Music",
          "Song of the South",
          "Song of the South",
          "Song of the South",
          "Song of the South",
          "Fun and Fancy Free",
          "Fun and Fancy Free",
          "Fun and Fancy Free",
          "Fun and Fancy Free",
          "Melody Time",
          "Melody Time",
          "Melody Time",
          "Melody Time",
          "So Dear to My Heart",
          "So Dear to My Heart",
          "The Adventures of Ichabod and Mr. Toad",
          "The Adventures of Ichabod and Mr. Toad",
          "The Adventures of Ichabod and Mr. Toad",
          "Cinderella",
          "Cinderella",
          "Cinderella",
          "Alice in Wonderland",
          "Alice in Wonderland",
          "Alice in Wonderland",
          "Peter Pan",
          "Peter Pan",
          "Peter Pan",
          "The Living Desert",
          "The Vanishing Prairie",
          "20,000 Leagues Under the Sea",
          "Davy Crockett, King of the Wild Frontier",
          "Lady and the Tramp",
          "Lady and the Tramp",
          "Lady and the Tramp",
          "The African Lion",
          "The Great Locomotive Chase",
          "Westward Ho the Wagons!",
          "Perri",
          "Perri",
          "Old Yeller",
          "Tonka",
          "Sleeping Beauty",
          "Sleeping Beauty",
          "Sleeping Beauty",
          "Sleeping Beauty",
          "The Shaggy Dog",
          "Third Man on the Mountain",
          "Toby Tyler",
          "Pollyanna",
          "Jungle Cat",
          "Swiss Family Robinson",
          "Swiss Family Robinson",
          "One Hundred and One Dalmatians",
          "One Hundred and One Dalmatians",
          "One Hundred and One Dalmatians",
          "The Parent Trap",
          "Babes in Toyland",
          "Moon Pilot",
          "Bon Voyage!",
          "In Search of the Castaways",
          "Son of Flubber",
          "Miracle of the White Stallions",
          "Savage Sam",
          "Summer Magic",
          "The Sword in the Stone",
          "A Tiger Walks",
          "The Misadventures of Merlin Jones",
          "Mary Poppins",
          "Emil and the Detectives",
          "Those Calloways",
          "The Monkey's Uncle",
          "That Darn Cat!",
          "The Ugly Dachshund",
          "Lt. Robin Crusoe, U.S.N.",
          "Follow Me, Boys!",
          "Monkeys, Go Home!",
          "The Adventures of Bullwhip Griffin",
          "The Gnome-Mobile",
          "The Jungle Book",
          "The Happiest Millionaire",
          "Blackbeard's Ghost",
          "The One and Only, Genuine, Original Family Band",
          "Never a Dull Moment",
          "The Horse in the Gray Flannel Suit",
          "The Love Bug",
          "Smith!",
          "The Computer Wore Tennis Shoes",
          "The Boatniks",
          "The Wild Country",
          "The Aristocats",
          "Million Dollar Duck",
          "Bedknobs and Broomsticks",
          "Now You See Him, Now You Don't",
          "Snowball Express",
          "The World's Greatest Athlete",
          "One Little Indian",
          "Robin Hood",
          "Superdad",
          "Herbie Rides Again",
          "The Bears and I",
          "The Island at the Top of the World",
          "The Strongest Man in the World",
          "Escape to Witch Mountain",
          "The Apple Dumpling Gang",
          "Gus",
          "The Shaggy D.A.",
          "Freaky Friday",
          "The Rescuers",
          "The Rescuers",
          "The Rescuers",
          "Herbie Goes to Monte Carlo",
          "Pete's Dragon",
          "The Apple Dumpling Gang Rides Again",
          "The Black Hole",
          "Midnight Madness",
          "Midnight Madness",
          "The Watcher in the Woods",
          "The Watcher in the Woods",
          "Herbie Goes Bananas",
          "The Last Flight of Noah's Ark",
          "Popeye",
          "The Devil and Max Devlin",
          "Dragonslayer",
          "The Fox and the Hound",
          "The Fox and the Hound",
          "The Fox and the Hound",
          "Tex",
          "Trenchcoat",
          "Something Wicked This Way Comes",
          "Never Cry Wolf",
          "The Black Cauldron",
          "The Black Cauldron",
          "The Journey of Natty Gann",
          "The Great Mouse Detective",
          "The Great Mouse Detective",
          "The Great Mouse Detective",
          "The Great Mouse Detective",
          "Benji the Hunted",
          "Oliver & Company",
          "Honey, I Shrunk the Kids",
          "Cheetah",
          "DuckTales the Movie: Treasure of the Lost Lamp",
          "The Rescuers Down Under",
          "The Rescuers Down Under",
          "White Fang",
          "Wild Hearts Can't Be Broken",
          "The Rocketeer",
          "Beauty and the Beast",
          "Beauty and the Beast",
          "Newsies",
          "Honey, I Blew Up the Kid",
          "The Mighty Ducks",
          "Aladdin",
          "Aladdin",
          "The Muppet Christmas Carol",
          "Homeward Bound: The Incredible Journey",
          "A Far Off Place",
          "The Adventures of Huck Finn",
          "Hocus Pocus",
          "Cool Runnings",
          "Iron Will",
          "Blank Check",
          "D2: The Mighty Ducks",
          "White Fang 2: Myth of the White Wolf",
          "The Lion King",
          "The Lion King",
          "Angels in the Outfield",
          "The Santa Clause",
          "Heavyweights",
          "Man of the House",
          "Tall Tale",
          "A Goofy Movie",
          "Pocahontas",
          "Pocahontas",
          "The Big Green",
          "Toy Story",
          "Tom and Huck",
          "Muppet Treasure Island",
          "Homeward Bound II: Lost in San Francisco",
          "The Hunchback of Notre Dame",
          "The Hunchback of Notre Dame",
          "First Kid",
          "D3: The Mighty Ducks",
          "101 Dalmatians",
          "That Darn Cat",
          "Hercules",
          "Hercules",
          "George of the Jungle",
          "RocketMan",
          "Flubber",
          "Mr. Magoo",
          "Meet the Deedles",
          "Mulan",
          "Mulan",
          "The Parent Trap",
          "I'll Be Home for Christmas",
          "A Bug's Life",
          "Mighty Joe Young",
          "My Favorite Martian",
          "Doug's 1st Movie",
          "Tarzan",
          "Tarzan",
          "Inspector Gadget",
          "Toy Story 2",
          "Fantasia 2000",
          "Fantasia 2000",
          "Fantasia 2000",
          "Fantasia 2000",
          "Fantasia 2000",
          "Fantasia 2000",
          "Fantasia 2000",
          "The Tigger Movie",
          "Dinosaur",
          "Dinosaur",
          "The Kid",
          "Remember The Titans",
          "102 Dalmatians",
          "The Emperor's New Groove",
          "Recess: School's Out",
          "Atlantis: The Lost Empire",
          "Atlantis: The Lost Empire",
          "The Princess Diaries",
          "Max Keeble's Big Move",
          "Monsters, Inc.",
          "Snow Dogs",
          "Return to Never Land",
          "The Rookie",
          "Lilo & Stitch",
          "Lilo & Stitch",
          "The Country Bears",
          "Tuck Everlasting",
          "The Santa Clause 2",
          "Treasure Planet",
          "Treasure Planet",
          "Piglet's Big Movie",
          "Ghosts of the Abyss",
          "Holes",
          "The Lizzie McGuire Movie",
          "Finding Nemo",
          "Pirates of the Caribbean: The Curse of the Black Pearl",
          "Freaky Friday",
          "Brother Bear",
          "Brother Bear",
          "The Haunted Mansion",
          "The Young Black Stallion",
          "Teacher's Pet",
          "Miracle",
          "Confessions of a Teenage Drama Queen",
          "Home on the Range",
          "Home on the Range",
          "Around the World in 80 Days",
          "The Princess Diaries 2: Royal Engagement",
          "The Incredibles",
          "National Treasure",
          "Aliens of the Deep",
          "Aliens of the Deep",
          "Pooh's Heffalump Movie",
          "The Pacifier",
          "Ice Princess",
          "Herbie: Fully Loaded",
          "Sky High",
          "The Greatest Game Ever Played",
          "Chicken Little",
          "Roving Mars",
          "Eight Below",
          "The Shaggy Dog",
          "Cars",
          "Pirates of the Caribbean: Dead Man's Chest",
          "Invincible",
          "The Nightmare Before Christmas",
          "The Santa Clause 3: The Escape Clause",
          "Bridge to Terabithia",
          "Meet the Robinsons",
          "Pirates of the Caribbean: At World's End",
          "Ratatouille",
          "Underdog",
          "The Game Plan",
          "Enchanted",
          "National Treasure: Book of Secrets",
          "Hannah Montana and Miley Cyrus: Best of Both Worlds Concert",
          "College Road Trip",
          "WALL-E",
          "Beverly Hills Chihuahua",
          "Morning Light",
          "Bolt",
          "Bolt",
          "Bedtime Stories",
          "Jonas Brothers: The 3D Concert Experience",
          "Race to Witch Mountain",
          "Hannah Montana: The Movie",
          "Up",
          "G-Force",
          "A Christmas Carol",
          "Old Dogs",
          "The Princess and the Frog",
          "The Princess and the Frog",
          "Alice in Wonderland",
          "Waking Sleeping Beauty",
          "Prince of Persia: The Sands of Time",
          "Toy Story 3",
          "The Sorcerer's Apprentice",
          "Secretariat",
          "Tangled",
          "Tangled",
          "The Boys: The Sherman Brothers' Story",
          "The Boys: The Sherman Brothers' Story",
          "Tron: Legacy",
          "Mars Needs Moms",
          "Prom",
          "Pirates of the Caribbean: On Stranger Tides",
          "Cars 2",
          "Winnie the Pooh",
          "Winnie the Pooh",
          "The Muppets",
          "John Carter",
          "Brave",
          "Brave",
          "The Odd Life of Timothy Green",
          "Frankenweenie",
          "Wreck-It Ralph",
          "Oz the Great and Powerful",
          "Monsters University",
          "The Lone Ranger",
          "Planes",
          "Frozen",
          "Frozen",
          "Muppets Most Wanted",
          "Bears",
          "Bears",
          "Million Dollar Arm",
          "Maleficent",
          "Planes: Fire & Rescue",
          "Alexander and the Terrible, Horrible, No Good, Very Bad Day",
          "Big Hero 6",
          "Big Hero 6",
          "Into the Woods",
          "McFarland, USA",
          "Monkey Kingdom",
          "Monkey Kingdom",
          "Tomorrowland",
          "Inside Out",
          "The Good Dinosaur",
          "The Finest Hours",
          "Zootopia",
          "Zootopia",
          "The Jungle Book",
          "Alice Through the Looking Glass",
          "Finding Dory",
          "The BFG",
          "Pete's Dragon",
          "Queen of Katwe",
          "Moana",
          "Moana",
          "Beauty and the Beast",
          "Pirates of the Caribbean: Dead Men Tell No Tales",
          "Pirates of the Caribbean: Dead Men Tell No Tales",
          "Cars 3",
          "Coco",
          "A Wrinkle in Time",
          "Incredibles 2",
          "Christopher Robin",
          "The Nutcracker and the Four Realms",
          "The Nutcracker and the Four Realms",
          "Ralph Breaks the Internet",
          "Ralph Breaks the Internet",
          "Mary Poppins Returns",
          "Dumbo",
          "Penguins",
          "Penguins",
          "Toy Story 4",
          "The Lion King",
          "Maleficent: Mistress of Evil",
          "Frozen II",
          "Frozen II",
          "Onward",
          "Mulan"
         ],
         "legendgroup": "United States",
         "marker": {
          "color": "#636efa",
          "size": [
           83,
           83,
           83,
           83,
           83,
           83,
           88,
           88,
           88,
           88,
           88,
           88,
           88,
           126,
           126,
           126,
           126,
           126,
           126,
           126,
           126,
           126,
           126,
           126,
           126,
           74,
           74,
           74,
           74,
           74,
           74,
           74,
           74,
           74,
           74,
           64,
           64,
           64,
           64,
           64,
           64,
           64,
           64,
           70,
           70,
           70,
           70,
           70,
           70,
           70,
           70,
           70,
           42,
           42,
           42,
           42,
           42,
           65,
           65,
           65,
           65,
           65,
           65,
           71,
           71,
           71,
           71,
           71,
           75,
           75,
           75,
           75,
           75,
           94,
           94,
           94,
           94,
           73,
           73,
           73,
           73,
           75,
           75,
           75,
           75,
           82,
           82,
           68,
           68,
           68,
           74,
           74,
           74,
           75,
           75,
           75,
           77,
           77,
           77,
           69,
           60,
           127,
           92,
           76,
           76,
           76,
           75,
           85,
           90,
           75,
           75,
           83,
           97,
           75,
           75,
           75,
           75,
           104,
           105,
           95,
           134,
           69,
           126,
           126,
           79,
           79,
           79,
           128,
           105,
           98,
           130,
           98,
           100,
           118,
           103,
           110,
           79,
           91,
           91,
           139,
           92,
           131,
           87,
           116,
           93,
           110,
           131,
           101,
           108,
           84,
           78,
           164,
           106,
           110,
           99,
           113,
           108,
           112,
           91,
           100,
           100,
           79,
           89,
           118,
           88,
           93,
           93,
           90,
           83,
           96,
           88,
           89,
           93,
           92,
           97,
           100,
           95,
           91,
           95,
           77,
           77,
           77,
           104,
           128,
           88,
           98,
           112,
           112,
           84,
           84,
           98,
           97,
           114,
           96,
           109,
           83,
           83,
           83,
           103,
           91,
           95,
           105,
           80,
           80,
           101,
           74,
           74,
           74,
           74,
           89,
           74,
           93,
           84,
           69,
           77,
           77,
           107,
           88,
           108,
           84,
           84,
           121,
           89,
           104,
           90,
           90,
           86,
           84,
           108,
           107,
           96,
           98,
           108,
           94,
           106,
           102,
           88,
           88,
           102,
           97,
           100,
           96,
           98,
           78,
           81,
           81,
           99,
           81,
           92,
           100,
           89,
           91,
           91,
           101,
           104,
           103,
           86,
           93,
           93,
           92,
           95,
           93,
           87,
           93,
           87,
           87,
           128,
           86,
           95,
           114,
           93,
           83,
           88,
           88,
           78,
           92,
           74,
           74,
           74,
           74,
           74,
           74,
           74,
           77,
           82,
           82,
           104,
           113,
           100,
           78,
           83,
           96,
           96,
           115,
           86,
           92,
           99,
           73,
           128,
           85,
           85,
           88,
           96,
           104,
           95,
           95,
           75,
           61,
           117,
           94,
           100,
           143,
           97,
           85,
           85,
           86,
           50,
           74,
           136,
           89,
           76,
           76,
           120,
           113,
           115,
           131,
           100,
           100,
           68,
           95,
           97,
           101,
           100,
           120,
           81,
           40,
           120,
           99,
           117,
           151,
           104,
           76,
           92,
           95,
           94,
           168,
           111,
           82,
           110,
           107,
           124,
           74,
           83,
           97,
           91,
           100,
           96,
           96,
           99,
           76,
           98,
           97,
           96,
           90,
           96,
           88,
           97,
           97,
           108,
           85,
           116,
           103,
           109,
           123,
           100,
           100,
           101,
           101,
           125,
           88,
           104,
           137,
           106,
           69,
           69,
           103,
           132,
           93,
           93,
           104,
           87,
           101,
           130,
           104,
           149,
           92,
           102,
           102,
           107,
           77,
           77,
           124,
           97,
           84,
           81,
           102,
           102,
           124,
           129,
           82,
           82,
           130,
           94,
           94,
           117,
           108,
           108,
           106,
           113,
           97,
           117,
           103,
           124,
           107,
           107,
           129,
           129,
           129,
           102,
           105,
           109,
           118,
           104,
           99,
           99,
           112,
           112,
           131,
           112,
           76,
           76,
           100,
           118,
           119,
           103,
           103,
           102,
           115
          ],
          "sizemode": "area",
          "sizeref": 0.42,
          "symbol": "circle"
         },
         "mode": "markers",
         "name": "United States",
         "orientation": "v",
         "showlegend": true,
         "type": "scatter",
         "x": [
          1490000,
          1490000,
          1490000,
          1490000,
          1490000,
          1490000,
          2600000,
          2600000,
          2600000,
          2600000,
          2600000,
          2600000,
          2600000,
          2280000,
          2280000,
          2280000,
          2280000,
          2280000,
          2280000,
          2280000,
          2280000,
          2280000,
          2280000,
          2280000,
          2280000,
          600000,
          600000,
          600000,
          600000,
          600000,
          600000,
          600000,
          600000,
          600000,
          600000,
          950000,
          950000,
          950000,
          950000,
          950000,
          950000,
          950000,
          950000,
          858000,
          858000,
          858000,
          858000,
          858000,
          858000,
          858000,
          858000,
          858000,
          63588612.27106227,
          63588612.27106227,
          63588612.27106227,
          63588612.27106227,
          63588612.27106227,
          788000,
          788000,
          788000,
          788000,
          788000,
          788000,
          63588612.27106227,
          63588612.27106227,
          63588612.27106227,
          63588612.27106227,
          63588612.27106227,
          1350000,
          1350000,
          1350000,
          1350000,
          1350000,
          2125000,
          2125000,
          2125000,
          2125000,
          63588612.27106227,
          63588612.27106227,
          63588612.27106227,
          63588612.27106227,
          1500000,
          1500000,
          1500000,
          1500000,
          1500000,
          1500000,
          63588612.27106227,
          63588612.27106227,
          63588612.27106227,
          2900000,
          2900000,
          2900000,
          3000000,
          3000000,
          3000000,
          4000000,
          4000000,
          4000000,
          300000,
          63588612.27106227,
          5000000,
          63588612.27106227,
          4000000,
          4000000,
          4000000,
          63588612.27106227,
          63588612.27106227,
          63588612.27106227,
          63588612.27106227,
          63588612.27106227,
          63588612.27106227,
          63588612.27106227,
          6000000,
          6000000,
          6000000,
          6000000,
          1000000,
          2000000,
          63588612.27106227,
          2500000,
          63588612.27106227,
          4000000,
          4000000,
          3600000,
          3600000,
          3600000,
          63588612.27106227,
          3000000,
          63588612.27106227,
          3000000,
          63588612.27106227,
          63588612.27106227,
          63588612.27106227,
          63588612.27106227,
          63588612.27106227,
          3000000,
          63588612.27106227,
          63588612.27106227,
          4400000,
          63588612.27106227,
          63588612.27106227,
          63588612.27106227,
          63588612.27106227,
          63588612.27106227,
          63588612.27106227,
          63588612.27106227,
          63588612.27106227,
          63588612.27106227,
          63588612.27106227,
          4000000,
          5000000,
          63588612.27106227,
          63588612.27106227,
          63588612.27106227,
          63588612.27106227,
          5000000,
          63588612.27106227,
          63588612.27106227,
          63588612.27106227,
          63588612.27106227,
          4000000,
          63588612.27106227,
          6300000,
          63588612.27106227,
          63588612.27106227,
          63588612.27106227,
          63588612.27106227,
          5000000,
          63588612.27106227,
          63588612.27106227,
          63588612.27106227,
          8000000,
          63588612.27106227,
          63588612.27106227,
          63588612.27106227,
          63588612.27106227,
          63588612.27106227,
          5000000,
          7500000,
          7500000,
          7500000,
          63588612.27106227,
          10000000,
          63588612.27106227,
          20000000,
          63588612.27106227,
          63588612.27106227,
          9000000,
          9000000,
          63588612.27106227,
          6000000,
          20000000,
          63588612.27106227,
          18000000,
          12000000,
          12000000,
          12000000,
          5000000,
          63588612.27106227,
          19000000,
          11000000,
          25000000,
          25000000,
          63588612.27106227,
          14000000,
          14000000,
          14000000,
          14000000,
          63588612.27106227,
          31000000,
          18000000,
          5000000,
          20000000,
          63588612.27106227,
          63588612.27106227,
          14000000,
          63588612.27106227,
          35000000,
          25000000,
          25000000,
          15000000,
          40000000,
          14000000,
          28000000,
          28000000,
          12000000,
          63588612.27106227,
          63588612.27106227,
          6500000,
          28000000,
          17000000,
          63588612.27106227,
          13000000,
          63588612.27106227,
          63588612.27106227,
          45000000,
          45000000,
          31000000,
          22000000,
          63588612.27106227,
          22000000,
          32000000,
          63588612.27106227,
          55000000,
          55000000,
          12000000,
          30000000,
          63588612.27106227,
          31000000,
          63588612.27106227,
          100000000,
          100000000,
          15000000,
          63588612.27106227,
          75000000,
          63588612.27106227,
          85000000,
          85000000,
          55000000,
          16000000,
          80000000,
          30000000,
          24000000,
          90000000,
          90000000,
          15000000,
          30000000,
          120000000,
          90000000,
          65000000,
          5000000,
          130000000,
          130000000,
          90000000,
          90000000,
          85000000,
          85000000,
          85000000,
          85000000,
          85000000,
          85000000,
          85000000,
          15000000,
          127500000,
          127500000,
          65000000,
          30000000,
          85000000,
          100000000,
          23000000,
          90000000,
          90000000,
          26000000,
          25000000,
          115000000,
          33000000,
          20000000,
          22000000,
          80000000,
          80000000,
          35000000,
          15000000,
          65000000,
          140000000,
          140000000,
          46000000,
          13000000,
          20000000,
          17000000,
          94000000,
          140000000,
          26000000,
          46000000,
          46000000,
          90000000,
          63588612.27106227,
          10000000,
          28000000,
          15000000,
          110000000,
          110000000,
          110000000,
          45000000,
          92000000,
          100000000,
          63588612.27106227,
          63588612.27106227,
          20000000,
          56000000,
          25000000,
          50000000,
          35000000,
          25000000,
          150000000,
          1000000,
          40000000,
          50000000,
          120000000,
          225000000,
          30000000,
          18000000,
          12000000,
          20000000,
          63588612.27106227,
          300000000,
          150000000,
          25000000,
          22000000,
          85000000,
          130000000,
          7000000,
          25000000,
          180000000,
          20000000,
          63588612.27106227,
          150000000,
          150000000,
          80000000,
          63588612.27106227,
          50000000,
          30000000,
          175000000,
          150000000,
          175000000,
          35000000,
          105000000,
          105000000,
          200000000,
          63588612.27106227,
          150,
          200000000,
          150000000,
          35000000,
          260000000,
          260000000,
          63588612.27106227,
          63588612.27106227,
          150000000,
          150000000,
          8000000,
          410600000,
          200000000,
          30000000,
          30000000,
          45000000,
          306600000,
          185000000,
          185000000,
          25000000,
          39000000,
          165000000,
          200000000,
          200000000,
          225000000,
          50000000,
          150000000,
          150000000,
          51000000,
          5000000,
          5000000,
          25000000,
          180000000,
          50000000,
          28000000,
          165000000,
          165000000,
          50000000,
          25000000,
          5000000,
          5000000,
          180000000,
          175000000,
          175000000,
          70000000,
          150000000,
          150000000,
          175000000,
          170000000,
          175000000,
          140000000,
          65000000,
          15000000,
          150000000,
          150000000,
          160000000,
          230000000,
          230000000,
          175000000,
          175000000,
          100000000,
          200000000,
          75000000,
          120000000,
          120000000,
          175000000,
          175000000,
          130000000,
          170000000,
          63588612.27106227,
          63588612.27106227,
          200000000,
          250000000,
          185000000,
          150000000,
          150000000,
          175000000,
          200000000
         ],
         "xaxis": "x",
         "y": [
          7.6,
          7.6,
          7.6,
          7.6,
          7.6,
          7.6,
          7.4,
          7.4,
          7.4,
          7.4,
          7.4,
          7.4,
          7.4,
          7.8,
          7.8,
          7.8,
          7.8,
          7.8,
          7.8,
          7.8,
          7.8,
          7.8,
          7.8,
          7.8,
          7.8,
          6.9,
          6.9,
          6.9,
          6.9,
          6.9,
          6.9,
          6.9,
          6.9,
          6.9,
          6.9,
          7.2,
          7.2,
          7.2,
          7.2,
          7.2,
          7.2,
          7.2,
          7.2,
          7.3,
          7.3,
          7.3,
          7.3,
          7.3,
          7.3,
          7.3,
          7.3,
          7.3,
          6.1,
          6.1,
          6.1,
          6.1,
          6.1,
          6.5,
          6.5,
          6.5,
          6.5,
          6.5,
          6.5,
          6.4,
          6.4,
          6.4,
          6.4,
          6.4,
          6.3,
          6.3,
          6.3,
          6.3,
          6.3,
          7.1,
          7.1,
          7.1,
          7.1,
          6.6,
          6.6,
          6.6,
          6.6,
          6.4,
          6.4,
          6.4,
          6.4,
          6.8,
          6.8,
          7,
          7,
          7,
          6.9,
          6.9,
          6.9,
          6.4,
          6.4,
          6.4,
          7.3,
          7.3,
          7.3,
          7.5,
          7.7,
          7.2,
          7,
          7.3,
          7.3,
          7.3,
          7.2,
          6.9,
          5.8,
          7.2,
          7.2,
          7.3,
          6.5,
          7.2,
          7.2,
          7.2,
          7.2,
          4.4,
          7.2,
          7,
          7.4,
          7.4,
          7.2,
          7.2,
          7.2,
          7.2,
          7.2,
          6.5,
          6.3,
          5.4,
          5.8,
          6.6,
          6.1,
          6.6,
          6.2,
          7.1,
          7.2,
          6.4,
          6.4,
          7.8,
          6,
          6.7,
          6.1,
          6.8,
          6.7,
          6,
          7.2,
          5.9,
          6.6,
          6.6,
          7.4,
          6.8,
          6.9,
          6.5,
          6.2,
          6.5,
          6.5,
          6,
          6,
          5.5,
          6.4,
          7.1,
          5.9,
          7.1,
          6.3,
          6.5,
          5.8,
          6.3,
          6.6,
          5.2,
          5.7,
          6.2,
          6.3,
          6.1,
          6.4,
          6.5,
          5.9,
          5.9,
          6.2,
          6.9,
          6.9,
          6.9,
          5.7,
          6.7,
          6.2,
          6,
          6.5,
          6.5,
          6.3,
          6.3,
          5,
          5.8,
          5.3,
          5.1,
          6.7,
          7.3,
          7.3,
          7.3,
          6.5,
          5.3,
          6.8,
          7.5,
          6.4,
          6.4,
          7.1,
          7.2,
          7.2,
          7.2,
          7.2,
          6.3,
          6.7,
          6.4,
          6.1,
          6.9,
          6.9,
          6.9,
          6.7,
          7.2,
          6.5,
          8,
          8,
          7,
          4.9,
          6.5,
          8,
          8,
          7.7,
          6.9,
          6.6,
          6.2,
          6.9,
          7,
          6.6,
          5.3,
          6.1,
          5.4,
          8.5,
          8.5,
          6.2,
          6.5,
          6.7,
          5.4,
          5.9,
          6.8,
          6.7,
          6.7,
          5.6,
          8.3,
          5.5,
          7,
          6,
          6.9,
          6.9,
          5.3,
          5.5,
          5.7,
          4.7,
          7.3,
          7.3,
          5.5,
          7.3,
          5.3,
          4,
          4.1,
          7.6,
          7.6,
          6.5,
          5.5,
          7.2,
          5.6,
          5.1,
          5,
          7.3,
          7.3,
          4.1,
          7.9,
          7.2,
          7.2,
          7.2,
          7.2,
          7.2,
          7.2,
          7.2,
          6.3,
          6.5,
          6.5,
          8.3,
          7.8,
          4.9,
          7.3,
          6.6,
          6.9,
          6.9,
          6.3,
          5.4,
          8,
          5.2,
          5.8,
          6.9,
          7.2,
          7.2,
          4.1,
          6.6,
          5.6,
          7.2,
          7.2,
          6.1,
          6.8,
          7,
          5.5,
          8.1,
          8,
          6.2,
          6.8,
          6.8,
          5,
          5.6,
          7.1,
          7.5,
          4.7,
          5.3,
          5.3,
          5.9,
          5.8,
          8,
          6.9,
          6.4,
          6.4,
          6.4,
          5.6,
          6,
          4.8,
          6.2,
          7.4,
          5.7,
          7.2,
          7.3,
          4.4,
          7.1,
          7.3,
          7.1,
          8,
          4.7,
          7.1,
          6.8,
          7.1,
          8,
          4.7,
          6.1,
          7,
          6.5,
          2.4,
          4.3,
          8.4,
          3.8,
          5.8,
          6.8,
          6.8,
          6,
          1.5,
          5.7,
          4.5,
          8.2,
          5.1,
          6.8,
          5.4,
          7.1,
          7.1,
          6.4,
          7.6,
          6.6,
          8.3,
          6.1,
          7.2,
          7.7,
          7.7,
          7.8,
          7.8,
          6.8,
          5.4,
          5.4,
          6.6,
          6.1,
          7.2,
          7.2,
          7.1,
          6.6,
          7.1,
          7.1,
          6.6,
          6.9,
          7.7,
          6.3,
          7.3,
          6.4,
          5.7,
          7.4,
          7.4,
          6.4,
          7.4,
          7.4,
          7,
          7,
          6,
          6.2,
          7.8,
          7.8,
          5.9,
          7.4,
          7.3,
          7.3,
          6.4,
          8.1,
          6.7,
          6.8,
          8,
          8,
          7.4,
          6.2,
          7.3,
          6.4,
          6.7,
          7.4,
          7.6,
          7.6,
          8,
          6.6,
          6.6,
          6.7,
          8.4,
          4.2,
          7.6,
          7.3,
          5.5,
          5.5,
          7.1,
          7.1,
          6.7,
          7.2,
          7,
          7,
          7.8,
          8.5,
          6.6,
          6.9,
          6.9,
          7.4,
          7.6
         ],
         "yaxis": "y"
        },
        {
         "hovertemplate": "<b>%{hovertext}</b><br><br>Country=United States, United Kingdom<br>Budget (float)=%{x}<br>Movie-Rating=%{y}<br>Running time (int)=%{marker.size}<extra></extra>",
         "hovertext": [
          "Treasure Island",
          "The Story of Robin Hood and His Merrie Men",
          "Return to Oz",
          "Cinderella"
         ],
         "legendgroup": "United States, United Kingdom",
         "marker": {
          "color": "#EF553B",
          "size": [
           96,
           84,
           113,
           106
          ],
          "sizemode": "area",
          "sizeref": 0.42,
          "symbol": "circle"
         },
         "mode": "markers",
         "name": "United States, United Kingdom",
         "orientation": "v",
         "showlegend": true,
         "type": "scatter",
         "x": [
          1800000,
          63588612.27106227,
          28000000,
          95000000
         ],
         "xaxis": "x",
         "y": [
          6.9,
          6.7,
          6.7,
          6.9
         ],
         "yaxis": "y"
        },
        {
         "hovertemplate": "<b>%{hovertext}</b><br><br>Country=United Kingdom, United States<br>Budget (float)=%{x}<br>Movie-Rating=%{y}<br>Running time (int)=%{marker.size}<extra></extra>",
         "hovertext": [
          "The Sword and the Rose",
          "The Three Lives of Thomasina",
          "One of Our Dinosaurs is Missing",
          "Night Crossing",
          "James and the Giant Peach",
          "Valiant",
          "The Chronicles of Narnia: The Lion, the Witch and the Wardrobe",
          "The Chronicles of Narnia: Prince Caspian"
         ],
         "legendgroup": "United Kingdom, United States",
         "marker": {
          "color": "#00cc96",
          "size": [
           92,
           97,
           100,
           107,
           79,
           76,
           143,
           150
          ],
          "sizemode": "area",
          "sizeref": 0.42,
          "symbol": "circle"
         },
         "mode": "markers",
         "name": "United Kingdom, United States",
         "orientation": "v",
         "showlegend": true,
         "type": "scatter",
         "x": [
          2000000,
          63588612.27106227,
          63588612.27106227,
          63588612.27106227,
          38000000,
          35000000,
          180000000,
          225000000
         ],
         "xaxis": "x",
         "y": [
          6.4,
          7.2,
          6,
          6.5,
          6.7,
          5.5,
          6.9,
          6.5
         ],
         "yaxis": "y"
        },
        {
         "hovertemplate": "<b>%{hovertext}</b><br><br>Country=United States, Mexico<br>Budget (float)=%{x}<br>Movie-Rating=%{y}<br>Running time (int)=%{marker.size}<extra></extra>",
         "hovertext": [
          "The Littlest Outlaw"
         ],
         "legendgroup": "United States, Mexico",
         "marker": {
          "color": "#ab63fa",
          "size": [
           73
          ],
          "sizemode": "area",
          "sizeref": 0.42,
          "symbol": "circle"
         },
         "mode": "markers",
         "name": "United States, Mexico",
         "orientation": "v",
         "showlegend": true,
         "type": "scatter",
         "x": [
          63588612.27106227
         ],
         "xaxis": "x",
         "y": [
          6.1
         ],
         "yaxis": "y"
        },
        {
         "hovertemplate": "<b>%{hovertext}</b><br><br>Country=United States, Canada<br>Budget (float)=%{x}<br>Movie-Rating=%{y}<br>Running time (int)=%{marker.size}<extra></extra>",
         "hovertext": [
          "White Wilderness",
          "The Incredible Journey",
          "One Magic Christmas",
          "Squanto: A Warrior's Tale",
          "Air Bud",
          "The Wild"
         ],
         "legendgroup": "United States, Canada",
         "marker": {
          "color": "#FFA15A",
          "size": [
           72,
           80,
           89,
           102,
           98,
           82
          ],
          "sizemode": "area",
          "sizeref": 0.42,
          "symbol": "circle"
         },
         "mode": "markers",
         "name": "United States, Canada",
         "orientation": "v",
         "showlegend": true,
         "type": "scatter",
         "x": [
          63588612.27106227,
          63588612.27106227,
          63588612.27106227,
          63588612.27106227,
          3000000,
          80000000
         ],
         "xaxis": "x",
         "y": [
          5.1,
          7.1,
          6.5,
          6,
          5.2,
          5.3
         ],
         "yaxis": "y"
        },
        {
         "hovertemplate": "<b>%{hovertext}</b><br><br>Country=United States, Norway<br>Budget (float)=%{x}<br>Movie-Rating=%{y}<br>Running time (int)=%{marker.size}<extra></extra>",
         "hovertext": [
          "Flight of the Navigator"
         ],
         "legendgroup": "United States, Norway",
         "marker": {
          "color": "#19d3f3",
          "size": [
           90
          ],
          "sizemode": "area",
          "sizeref": 0.42,
          "symbol": "circle"
         },
         "mode": "markers",
         "name": "United States, Norway",
         "orientation": "v",
         "showlegend": true,
         "type": "scatter",
         "x": [
          9000000
         ],
         "xaxis": "x",
         "y": [
          6.9
         ],
         "yaxis": "y"
        },
        {
         "hovertemplate": "<b>%{hovertext}</b><br><br>Country=Norway, Sweden, United States<br>Budget (float)=%{x}<br>Movie-Rating=%{y}<br>Running time (int)=%{marker.size}<extra></extra>",
         "hovertext": [
          "Shipwrecked"
         ],
         "legendgroup": "Norway, Sweden, United States",
         "marker": {
          "color": "#FF6692",
          "size": [
           93
          ],
          "sizemode": "area",
          "sizeref": 0.42,
          "symbol": "circle"
         },
         "mode": "markers",
         "name": "Norway, Sweden, United States",
         "orientation": "v",
         "showlegend": true,
         "type": "scatter",
         "x": [
          8700000
         ],
         "xaxis": "x",
         "y": [
          6.7
         ],
         "yaxis": "y"
        },
        {
         "hovertemplate": "<b>%{hovertext}</b><br><br>Country=United States, Austria<br>Budget (float)=%{x}<br>Movie-Rating=%{y}<br>Running time (int)=%{marker.size}<extra></extra>",
         "hovertext": [
          "The Three Musketeers"
         ],
         "legendgroup": "United States, Austria",
         "marker": {
          "color": "#B6E880",
          "size": [
           105
          ],
          "sizemode": "area",
          "sizeref": 0.42,
          "symbol": "circle"
         },
         "mode": "markers",
         "name": "United States, Austria",
         "orientation": "v",
         "showlegend": true,
         "type": "scatter",
         "x": [
          30000000
         ],
         "xaxis": "x",
         "y": [
          5.7
         ],
         "yaxis": "y"
        },
        {
         "hovertemplate": "<b>%{hovertext}</b><br><br>Country=United States, France<br>Budget (float)=%{x}<br>Movie-Rating=%{y}<br>Running time (int)=%{marker.size}<extra></extra>",
         "hovertext": [
          "Jungle 2 Jungle"
         ],
         "legendgroup": "United States, France",
         "marker": {
          "color": "#FF97FF",
          "size": [
           105
          ],
          "sizemode": "area",
          "sizeref": 0.42,
          "symbol": "circle"
         },
         "mode": "markers",
         "name": "United States, France",
         "orientation": "v",
         "showlegend": true,
         "type": "scatter",
         "x": [
          32000000
         ],
         "xaxis": "x",
         "y": [
          5.2
         ],
         "yaxis": "y"
        },
        {
         "hovertemplate": "<b>%{hovertext}</b><br><br>Country=United States, Australia<br>Budget (float)=%{x}<br>Movie-Rating=%{y}<br>Running time (int)=%{marker.size}<extra></extra>",
         "hovertext": [
          "The Jungle Book 2"
         ],
         "legendgroup": "United States, Australia",
         "marker": {
          "color": "#FECB52",
          "size": [
           72
          ],
          "sizemode": "area",
          "sizeref": 0.42,
          "symbol": "circle"
         },
         "mode": "markers",
         "name": "United States, Australia",
         "orientation": "v",
         "showlegend": true,
         "type": "scatter",
         "x": [
          20000000
         ],
         "xaxis": "x",
         "y": [
          5.4
         ],
         "yaxis": "y"
        },
        {
         "hovertemplate": "<b>%{hovertext}</b><br><br>Country=Canada, Malaysia, United States<br>Budget (float)=%{x}<br>Movie-Rating=%{y}<br>Running time (int)=%{marker.size}<extra></extra>",
         "hovertext": [
          "Sacred Planet",
          "Sacred Planet"
         ],
         "legendgroup": "Canada, Malaysia, United States",
         "marker": {
          "color": "#636efa",
          "size": [
           40,
           40
          ],
          "sizemode": "area",
          "sizeref": 0.42,
          "symbol": "circle"
         },
         "mode": "markers",
         "name": "Canada, Malaysia, United States",
         "orientation": "v",
         "showlegend": true,
         "type": "scatter",
         "x": [
          63588612.27106227,
          63588612.27106227
         ],
         "xaxis": "x",
         "y": [
          6,
          6
         ],
         "yaxis": "y"
        },
        {
         "hovertemplate": "<b>%{hovertext}</b><br><br>Country=France, United Kingdom, Germany, United States<br>Budget (float)=%{x}<br>Movie-Rating=%{y}<br>Running time (int)=%{marker.size}<extra></extra>",
         "hovertext": [
          "Earth",
          "Earth"
         ],
         "legendgroup": "France, United Kingdom, Germany, United States",
         "marker": {
          "color": "#EF553B",
          "size": [
           99,
           99
          ],
          "sizemode": "area",
          "sizeref": 0.42,
          "symbol": "circle"
         },
         "mode": "markers",
         "name": "France, United Kingdom, Germany, United States",
         "orientation": "v",
         "showlegend": true,
         "type": "scatter",
         "x": [
          47000000,
          47000000
         ],
         "xaxis": "x",
         "y": [
          8,
          8
         ],
         "yaxis": "y"
        },
        {
         "hovertemplate": "<b>%{hovertext}</b><br><br>Country=France<br>Budget (float)=%{x}<br>Movie-Rating=%{y}<br>Running time (int)=%{marker.size}<extra></extra>",
         "hovertext": [
          "Oceans",
          "Oceans",
          "Oceans",
          "March of the Penguins"
         ],
         "legendgroup": "France",
         "marker": {
          "color": "#00cc96",
          "size": [
           104,
           104,
           104,
           80
          ],
          "sizemode": "area",
          "sizeref": 0.42,
          "symbol": "circle"
         },
         "mode": "markers",
         "name": "France",
         "orientation": "v",
         "showlegend": true,
         "type": "scatter",
         "x": [
          80000000,
          80000000,
          80000000,
          8000000
         ],
         "xaxis": "x",
         "y": [
          7.8,
          7.8,
          7.8,
          7.5
         ],
         "yaxis": "y"
        },
        {
         "hovertemplate": "<b>%{hovertext}</b><br><br>Country=United States, France, United Kingdom<br>Budget (float)=%{x}<br>Movie-Rating=%{y}<br>Running time (int)=%{marker.size}<extra></extra>",
         "hovertext": [
          "African Cats",
          "African Cats",
          "Chimpanzee",
          "Chimpanzee"
         ],
         "legendgroup": "United States, France, United Kingdom",
         "marker": {
          "color": "#ab63fa",
          "size": [
           89,
           89,
           77,
           77
          ],
          "sizemode": "area",
          "sizeref": 0.42,
          "symbol": "circle"
         },
         "mode": "markers",
         "name": "United States, France, United Kingdom",
         "orientation": "v",
         "showlegend": true,
         "type": "scatter",
         "x": [
          5000000,
          5000000,
          5000000,
          5000000
         ],
         "xaxis": "x",
         "y": [
          7.6,
          7.6,
          7.2,
          7.2
         ],
         "yaxis": "y"
        },
        {
         "hovertemplate": "<b>%{hovertext}</b><br><br>Country=Australia, United Kingdom, United States<br>Budget (float)=%{x}<br>Movie-Rating=%{y}<br>Running time (int)=%{marker.size}<extra></extra>",
         "hovertext": [
          "Saving Mr. Banks"
         ],
         "legendgroup": "Australia, United Kingdom, United States",
         "marker": {
          "color": "#FFA15A",
          "size": [
           125
          ],
          "sizemode": "area",
          "sizeref": 0.42,
          "symbol": "circle"
         },
         "mode": "markers",
         "name": "Australia, United Kingdom, United States",
         "orientation": "v",
         "showlegend": true,
         "type": "scatter",
         "x": [
          35000000
         ],
         "xaxis": "x",
         "y": [
          7.5
         ],
         "yaxis": "y"
        },
        {
         "hovertemplate": "<b>%{hovertext}</b><br><br>Country=India<br>Budget (float)=%{x}<br>Movie-Rating=%{y}<br>Running time (int)=%{marker.size}<extra></extra>",
         "hovertext": [
          "Khoobsurat"
         ],
         "legendgroup": "India",
         "marker": {
          "color": "#19d3f3",
          "size": [
           127
          ],
          "sizemode": "area",
          "sizeref": 0.42,
          "symbol": "circle"
         },
         "mode": "markers",
         "name": "India",
         "orientation": "v",
         "showlegend": true,
         "type": "scatter",
         "x": [
          3200000
         ],
         "xaxis": "x",
         "y": [
          6.4
         ],
         "yaxis": "y"
        },
        {
         "hovertemplate": "<b>%{hovertext}</b><br><br>Country=United States, China, France<br>Budget (float)=%{x}<br>Movie-Rating=%{y}<br>Running time (int)=%{marker.size}<extra></extra>",
         "hovertext": [
          "Born in China"
         ],
         "legendgroup": "United States, China, France",
         "marker": {
          "color": "#FF6692",
          "size": [
           76
          ],
          "sizemode": "area",
          "sizeref": 0.42,
          "symbol": "circle"
         },
         "mode": "markers",
         "name": "United States, China, France",
         "orientation": "v",
         "showlegend": true,
         "type": "scatter",
         "x": [
          5000000
         ],
         "xaxis": "x",
         "y": [
          7.2
         ],
         "yaxis": "y"
        }
       ],
       "layout": {
        "legend": {
         "itemsizing": "constant",
         "title": {
          "text": "Country"
         },
         "tracegroupgap": 0
        },
        "template": {
         "data": {
          "bar": [
           {
            "error_x": {
             "color": "#f2f5fa"
            },
            "error_y": {
             "color": "#f2f5fa"
            },
            "marker": {
             "line": {
              "color": "rgb(17,17,17)",
              "width": 0.5
             },
             "pattern": {
              "fillmode": "overlay",
              "size": 10,
              "solidity": 0.2
             }
            },
            "type": "bar"
           }
          ],
          "barpolar": [
           {
            "marker": {
             "line": {
              "color": "rgb(17,17,17)",
              "width": 0.5
             },
             "pattern": {
              "fillmode": "overlay",
              "size": 10,
              "solidity": 0.2
             }
            },
            "type": "barpolar"
           }
          ],
          "carpet": [
           {
            "aaxis": {
             "endlinecolor": "#A2B1C6",
             "gridcolor": "#506784",
             "linecolor": "#506784",
             "minorgridcolor": "#506784",
             "startlinecolor": "#A2B1C6"
            },
            "baxis": {
             "endlinecolor": "#A2B1C6",
             "gridcolor": "#506784",
             "linecolor": "#506784",
             "minorgridcolor": "#506784",
             "startlinecolor": "#A2B1C6"
            },
            "type": "carpet"
           }
          ],
          "choropleth": [
           {
            "colorbar": {
             "outlinewidth": 0,
             "ticks": ""
            },
            "type": "choropleth"
           }
          ],
          "contour": [
           {
            "colorbar": {
             "outlinewidth": 0,
             "ticks": ""
            },
            "colorscale": [
             [
              0,
              "#0d0887"
             ],
             [
              0.1111111111111111,
              "#46039f"
             ],
             [
              0.2222222222222222,
              "#7201a8"
             ],
             [
              0.3333333333333333,
              "#9c179e"
             ],
             [
              0.4444444444444444,
              "#bd3786"
             ],
             [
              0.5555555555555556,
              "#d8576b"
             ],
             [
              0.6666666666666666,
              "#ed7953"
             ],
             [
              0.7777777777777778,
              "#fb9f3a"
             ],
             [
              0.8888888888888888,
              "#fdca26"
             ],
             [
              1,
              "#f0f921"
             ]
            ],
            "type": "contour"
           }
          ],
          "contourcarpet": [
           {
            "colorbar": {
             "outlinewidth": 0,
             "ticks": ""
            },
            "type": "contourcarpet"
           }
          ],
          "heatmap": [
           {
            "colorbar": {
             "outlinewidth": 0,
             "ticks": ""
            },
            "colorscale": [
             [
              0,
              "#0d0887"
             ],
             [
              0.1111111111111111,
              "#46039f"
             ],
             [
              0.2222222222222222,
              "#7201a8"
             ],
             [
              0.3333333333333333,
              "#9c179e"
             ],
             [
              0.4444444444444444,
              "#bd3786"
             ],
             [
              0.5555555555555556,
              "#d8576b"
             ],
             [
              0.6666666666666666,
              "#ed7953"
             ],
             [
              0.7777777777777778,
              "#fb9f3a"
             ],
             [
              0.8888888888888888,
              "#fdca26"
             ],
             [
              1,
              "#f0f921"
             ]
            ],
            "type": "heatmap"
           }
          ],
          "heatmapgl": [
           {
            "colorbar": {
             "outlinewidth": 0,
             "ticks": ""
            },
            "colorscale": [
             [
              0,
              "#0d0887"
             ],
             [
              0.1111111111111111,
              "#46039f"
             ],
             [
              0.2222222222222222,
              "#7201a8"
             ],
             [
              0.3333333333333333,
              "#9c179e"
             ],
             [
              0.4444444444444444,
              "#bd3786"
             ],
             [
              0.5555555555555556,
              "#d8576b"
             ],
             [
              0.6666666666666666,
              "#ed7953"
             ],
             [
              0.7777777777777778,
              "#fb9f3a"
             ],
             [
              0.8888888888888888,
              "#fdca26"
             ],
             [
              1,
              "#f0f921"
             ]
            ],
            "type": "heatmapgl"
           }
          ],
          "histogram": [
           {
            "marker": {
             "pattern": {
              "fillmode": "overlay",
              "size": 10,
              "solidity": 0.2
             }
            },
            "type": "histogram"
           }
          ],
          "histogram2d": [
           {
            "colorbar": {
             "outlinewidth": 0,
             "ticks": ""
            },
            "colorscale": [
             [
              0,
              "#0d0887"
             ],
             [
              0.1111111111111111,
              "#46039f"
             ],
             [
              0.2222222222222222,
              "#7201a8"
             ],
             [
              0.3333333333333333,
              "#9c179e"
             ],
             [
              0.4444444444444444,
              "#bd3786"
             ],
             [
              0.5555555555555556,
              "#d8576b"
             ],
             [
              0.6666666666666666,
              "#ed7953"
             ],
             [
              0.7777777777777778,
              "#fb9f3a"
             ],
             [
              0.8888888888888888,
              "#fdca26"
             ],
             [
              1,
              "#f0f921"
             ]
            ],
            "type": "histogram2d"
           }
          ],
          "histogram2dcontour": [
           {
            "colorbar": {
             "outlinewidth": 0,
             "ticks": ""
            },
            "colorscale": [
             [
              0,
              "#0d0887"
             ],
             [
              0.1111111111111111,
              "#46039f"
             ],
             [
              0.2222222222222222,
              "#7201a8"
             ],
             [
              0.3333333333333333,
              "#9c179e"
             ],
             [
              0.4444444444444444,
              "#bd3786"
             ],
             [
              0.5555555555555556,
              "#d8576b"
             ],
             [
              0.6666666666666666,
              "#ed7953"
             ],
             [
              0.7777777777777778,
              "#fb9f3a"
             ],
             [
              0.8888888888888888,
              "#fdca26"
             ],
             [
              1,
              "#f0f921"
             ]
            ],
            "type": "histogram2dcontour"
           }
          ],
          "mesh3d": [
           {
            "colorbar": {
             "outlinewidth": 0,
             "ticks": ""
            },
            "type": "mesh3d"
           }
          ],
          "parcoords": [
           {
            "line": {
             "colorbar": {
              "outlinewidth": 0,
              "ticks": ""
             }
            },
            "type": "parcoords"
           }
          ],
          "pie": [
           {
            "automargin": true,
            "type": "pie"
           }
          ],
          "scatter": [
           {
            "marker": {
             "line": {
              "color": "#283442"
             }
            },
            "type": "scatter"
           }
          ],
          "scatter3d": [
           {
            "line": {
             "colorbar": {
              "outlinewidth": 0,
              "ticks": ""
             }
            },
            "marker": {
             "colorbar": {
              "outlinewidth": 0,
              "ticks": ""
             }
            },
            "type": "scatter3d"
           }
          ],
          "scattercarpet": [
           {
            "marker": {
             "colorbar": {
              "outlinewidth": 0,
              "ticks": ""
             }
            },
            "type": "scattercarpet"
           }
          ],
          "scattergeo": [
           {
            "marker": {
             "colorbar": {
              "outlinewidth": 0,
              "ticks": ""
             }
            },
            "type": "scattergeo"
           }
          ],
          "scattergl": [
           {
            "marker": {
             "line": {
              "color": "#283442"
             }
            },
            "type": "scattergl"
           }
          ],
          "scattermapbox": [
           {
            "marker": {
             "colorbar": {
              "outlinewidth": 0,
              "ticks": ""
             }
            },
            "type": "scattermapbox"
           }
          ],
          "scatterpolar": [
           {
            "marker": {
             "colorbar": {
              "outlinewidth": 0,
              "ticks": ""
             }
            },
            "type": "scatterpolar"
           }
          ],
          "scatterpolargl": [
           {
            "marker": {
             "colorbar": {
              "outlinewidth": 0,
              "ticks": ""
             }
            },
            "type": "scatterpolargl"
           }
          ],
          "scatterternary": [
           {
            "marker": {
             "colorbar": {
              "outlinewidth": 0,
              "ticks": ""
             }
            },
            "type": "scatterternary"
           }
          ],
          "surface": [
           {
            "colorbar": {
             "outlinewidth": 0,
             "ticks": ""
            },
            "colorscale": [
             [
              0,
              "#0d0887"
             ],
             [
              0.1111111111111111,
              "#46039f"
             ],
             [
              0.2222222222222222,
              "#7201a8"
             ],
             [
              0.3333333333333333,
              "#9c179e"
             ],
             [
              0.4444444444444444,
              "#bd3786"
             ],
             [
              0.5555555555555556,
              "#d8576b"
             ],
             [
              0.6666666666666666,
              "#ed7953"
             ],
             [
              0.7777777777777778,
              "#fb9f3a"
             ],
             [
              0.8888888888888888,
              "#fdca26"
             ],
             [
              1,
              "#f0f921"
             ]
            ],
            "type": "surface"
           }
          ],
          "table": [
           {
            "cells": {
             "fill": {
              "color": "#506784"
             },
             "line": {
              "color": "rgb(17,17,17)"
             }
            },
            "header": {
             "fill": {
              "color": "#2a3f5f"
             },
             "line": {
              "color": "rgb(17,17,17)"
             }
            },
            "type": "table"
           }
          ]
         },
         "layout": {
          "annotationdefaults": {
           "arrowcolor": "#f2f5fa",
           "arrowhead": 0,
           "arrowwidth": 1
          },
          "autotypenumbers": "strict",
          "coloraxis": {
           "colorbar": {
            "outlinewidth": 0,
            "ticks": ""
           }
          },
          "colorscale": {
           "diverging": [
            [
             0,
             "#8e0152"
            ],
            [
             0.1,
             "#c51b7d"
            ],
            [
             0.2,
             "#de77ae"
            ],
            [
             0.3,
             "#f1b6da"
            ],
            [
             0.4,
             "#fde0ef"
            ],
            [
             0.5,
             "#f7f7f7"
            ],
            [
             0.6,
             "#e6f5d0"
            ],
            [
             0.7,
             "#b8e186"
            ],
            [
             0.8,
             "#7fbc41"
            ],
            [
             0.9,
             "#4d9221"
            ],
            [
             1,
             "#276419"
            ]
           ],
           "sequential": [
            [
             0,
             "#0d0887"
            ],
            [
             0.1111111111111111,
             "#46039f"
            ],
            [
             0.2222222222222222,
             "#7201a8"
            ],
            [
             0.3333333333333333,
             "#9c179e"
            ],
            [
             0.4444444444444444,
             "#bd3786"
            ],
            [
             0.5555555555555556,
             "#d8576b"
            ],
            [
             0.6666666666666666,
             "#ed7953"
            ],
            [
             0.7777777777777778,
             "#fb9f3a"
            ],
            [
             0.8888888888888888,
             "#fdca26"
            ],
            [
             1,
             "#f0f921"
            ]
           ],
           "sequentialminus": [
            [
             0,
             "#0d0887"
            ],
            [
             0.1111111111111111,
             "#46039f"
            ],
            [
             0.2222222222222222,
             "#7201a8"
            ],
            [
             0.3333333333333333,
             "#9c179e"
            ],
            [
             0.4444444444444444,
             "#bd3786"
            ],
            [
             0.5555555555555556,
             "#d8576b"
            ],
            [
             0.6666666666666666,
             "#ed7953"
            ],
            [
             0.7777777777777778,
             "#fb9f3a"
            ],
            [
             0.8888888888888888,
             "#fdca26"
            ],
            [
             1,
             "#f0f921"
            ]
           ]
          },
          "colorway": [
           "#636efa",
           "#EF553B",
           "#00cc96",
           "#ab63fa",
           "#FFA15A",
           "#19d3f3",
           "#FF6692",
           "#B6E880",
           "#FF97FF",
           "#FECB52"
          ],
          "font": {
           "color": "#f2f5fa"
          },
          "geo": {
           "bgcolor": "rgb(17,17,17)",
           "lakecolor": "rgb(17,17,17)",
           "landcolor": "rgb(17,17,17)",
           "showlakes": true,
           "showland": true,
           "subunitcolor": "#506784"
          },
          "hoverlabel": {
           "align": "left"
          },
          "hovermode": "closest",
          "mapbox": {
           "style": "dark"
          },
          "paper_bgcolor": "rgb(17,17,17)",
          "plot_bgcolor": "rgb(17,17,17)",
          "polar": {
           "angularaxis": {
            "gridcolor": "#506784",
            "linecolor": "#506784",
            "ticks": ""
           },
           "bgcolor": "rgb(17,17,17)",
           "radialaxis": {
            "gridcolor": "#506784",
            "linecolor": "#506784",
            "ticks": ""
           }
          },
          "scene": {
           "xaxis": {
            "backgroundcolor": "rgb(17,17,17)",
            "gridcolor": "#506784",
            "gridwidth": 2,
            "linecolor": "#506784",
            "showbackground": true,
            "ticks": "",
            "zerolinecolor": "#C8D4E3"
           },
           "yaxis": {
            "backgroundcolor": "rgb(17,17,17)",
            "gridcolor": "#506784",
            "gridwidth": 2,
            "linecolor": "#506784",
            "showbackground": true,
            "ticks": "",
            "zerolinecolor": "#C8D4E3"
           },
           "zaxis": {
            "backgroundcolor": "rgb(17,17,17)",
            "gridcolor": "#506784",
            "gridwidth": 2,
            "linecolor": "#506784",
            "showbackground": true,
            "ticks": "",
            "zerolinecolor": "#C8D4E3"
           }
          },
          "shapedefaults": {
           "line": {
            "color": "#f2f5fa"
           }
          },
          "sliderdefaults": {
           "bgcolor": "#C8D4E3",
           "bordercolor": "rgb(17,17,17)",
           "borderwidth": 1,
           "tickwidth": 0
          },
          "ternary": {
           "aaxis": {
            "gridcolor": "#506784",
            "linecolor": "#506784",
            "ticks": ""
           },
           "baxis": {
            "gridcolor": "#506784",
            "linecolor": "#506784",
            "ticks": ""
           },
           "bgcolor": "rgb(17,17,17)",
           "caxis": {
            "gridcolor": "#506784",
            "linecolor": "#506784",
            "ticks": ""
           }
          },
          "title": {
           "x": 0.05
          },
          "updatemenudefaults": {
           "bgcolor": "#506784",
           "borderwidth": 0
          },
          "xaxis": {
           "automargin": true,
           "gridcolor": "#283442",
           "linecolor": "#506784",
           "ticks": "",
           "title": {
            "standoff": 15
           },
           "zerolinecolor": "#283442",
           "zerolinewidth": 2
          },
          "yaxis": {
           "automargin": true,
           "gridcolor": "#283442",
           "linecolor": "#506784",
           "ticks": "",
           "title": {
            "standoff": 15
           },
           "zerolinecolor": "#283442",
           "zerolinewidth": 2
          }
         }
        },
        "title": {
         "text": "Budget-Rating relation"
        },
        "xaxis": {
         "anchor": "y",
         "domain": [
          0,
          1
         ],
         "title": {
          "text": "Budget (float)"
         }
        },
        "yaxis": {
         "anchor": "x",
         "domain": [
          0,
          1
         ],
         "title": {
          "text": "Movie-Rating"
         }
        }
       }
      },
      "text/html": [
       "<div>                            <div id=\"ba7121cf-97ec-42a4-97a3-00818c39873e\" class=\"plotly-graph-div\" style=\"height:525px; width:100%;\"></div>            <script type=\"text/javascript\">                require([\"plotly\"], function(Plotly) {                    window.PLOTLYENV=window.PLOTLYENV || {};                                    if (document.getElementById(\"ba7121cf-97ec-42a4-97a3-00818c39873e\")) {                    Plotly.newPlot(                        \"ba7121cf-97ec-42a4-97a3-00818c39873e\",                        [{\"hovertemplate\":\"<b>%{hovertext}</b><br><br>Country=United States<br>Budget (float)=%{x}<br>Movie-Rating=%{y}<br>Running time (int)=%{marker.size}<extra></extra>\",\"hovertext\":[\"Snow White and the Seven Dwarfs\",\"Snow White and the Seven Dwarfs\",\"Snow White and the Seven Dwarfs\",\"Snow White and the Seven Dwarfs\",\"Snow White and the Seven Dwarfs\",\"Snow White and the Seven Dwarfs\",\"Pinocchio\",\"Pinocchio\",\"Pinocchio\",\"Pinocchio\",\"Pinocchio\",\"Pinocchio\",\"Pinocchio\",\"Fantasia\",\"Fantasia\",\"Fantasia\",\"Fantasia\",\"Fantasia\",\"Fantasia\",\"Fantasia\",\"Fantasia\",\"Fantasia\",\"Fantasia\",\"Fantasia\",\"Fantasia\",\"The Reluctant Dragon\",\"The Reluctant Dragon\",\"The Reluctant Dragon\",\"The Reluctant Dragon\",\"The Reluctant Dragon\",\"The Reluctant Dragon\",\"The Reluctant Dragon\",\"The Reluctant Dragon\",\"The Reluctant Dragon\",\"The Reluctant Dragon\",\"Dumbo\",\"Dumbo\",\"Dumbo\",\"Dumbo\",\"Dumbo\",\"Dumbo\",\"Dumbo\",\"Dumbo\",\"Bambi\",\"Bambi\",\"Bambi\",\"Bambi\",\"Bambi\",\"Bambi\",\"Bambi\",\"Bambi\",\"Bambi\",\"Saludos Amigos\",\"Saludos Amigos\",\"Saludos Amigos\",\"Saludos Amigos\",\"Saludos Amigos\",\"Victory Through Air Power\",\"Victory Through Air Power\",\"Victory Through Air Power\",\"Victory Through Air Power\",\"Victory Through Air Power\",\"Victory Through Air Power\",\"The Three Caballeros\",\"The Three Caballeros\",\"The Three Caballeros\",\"The Three Caballeros\",\"The Three Caballeros\",\"Make Mine Music\",\"Make Mine Music\",\"Make Mine Music\",\"Make Mine Music\",\"Make Mine Music\",\"Song of the South\",\"Song of the South\",\"Song of the South\",\"Song of the South\",\"Fun and Fancy Free\",\"Fun and Fancy Free\",\"Fun and Fancy Free\",\"Fun and Fancy Free\",\"Melody Time\",\"Melody Time\",\"Melody Time\",\"Melody Time\",\"So Dear to My Heart\",\"So Dear to My Heart\",\"The Adventures of Ichabod and Mr. Toad\",\"The Adventures of Ichabod and Mr. Toad\",\"The Adventures of Ichabod and Mr. Toad\",\"Cinderella\",\"Cinderella\",\"Cinderella\",\"Alice in Wonderland\",\"Alice in Wonderland\",\"Alice in Wonderland\",\"Peter Pan\",\"Peter Pan\",\"Peter Pan\",\"The Living Desert\",\"The Vanishing Prairie\",\"20,000 Leagues Under the Sea\",\"Davy Crockett, King of the Wild Frontier\",\"Lady and the Tramp\",\"Lady and the Tramp\",\"Lady and the Tramp\",\"The African Lion\",\"The Great Locomotive Chase\",\"Westward Ho the Wagons!\",\"Perri\",\"Perri\",\"Old Yeller\",\"Tonka\",\"Sleeping Beauty\",\"Sleeping Beauty\",\"Sleeping Beauty\",\"Sleeping Beauty\",\"The Shaggy Dog\",\"Third Man on the Mountain\",\"Toby Tyler\",\"Pollyanna\",\"Jungle Cat\",\"Swiss Family Robinson\",\"Swiss Family Robinson\",\"One Hundred and One Dalmatians\",\"One Hundred and One Dalmatians\",\"One Hundred and One Dalmatians\",\"The Parent Trap\",\"Babes in Toyland\",\"Moon Pilot\",\"Bon Voyage!\",\"In Search of the Castaways\",\"Son of Flubber\",\"Miracle of the White Stallions\",\"Savage Sam\",\"Summer Magic\",\"The Sword in the Stone\",\"A Tiger Walks\",\"The Misadventures of Merlin Jones\",\"Mary Poppins\",\"Emil and the Detectives\",\"Those Calloways\",\"The Monkey's Uncle\",\"That Darn Cat!\",\"The Ugly Dachshund\",\"Lt. Robin Crusoe, U.S.N.\",\"Follow Me, Boys!\",\"Monkeys, Go Home!\",\"The Adventures of Bullwhip Griffin\",\"The Gnome-Mobile\",\"The Jungle Book\",\"The Happiest Millionaire\",\"Blackbeard's Ghost\",\"The One and Only, Genuine, Original Family Band\",\"Never a Dull Moment\",\"The Horse in the Gray Flannel Suit\",\"The Love Bug\",\"Smith!\",\"The Computer Wore Tennis Shoes\",\"The Boatniks\",\"The Wild Country\",\"The Aristocats\",\"Million Dollar Duck\",\"Bedknobs and Broomsticks\",\"Now You See Him, Now You Don't\",\"Snowball Express\",\"The World's Greatest Athlete\",\"One Little Indian\",\"Robin Hood\",\"Superdad\",\"Herbie Rides Again\",\"The Bears and I\",\"The Island at the Top of the World\",\"The Strongest Man in the World\",\"Escape to Witch Mountain\",\"The Apple Dumpling Gang\",\"Gus\",\"The Shaggy D.A.\",\"Freaky Friday\",\"The Rescuers\",\"The Rescuers\",\"The Rescuers\",\"Herbie Goes to Monte Carlo\",\"Pete's Dragon\",\"The Apple Dumpling Gang Rides Again\",\"The Black Hole\",\"Midnight Madness\",\"Midnight Madness\",\"The Watcher in the Woods\",\"The Watcher in the Woods\",\"Herbie Goes Bananas\",\"The Last Flight of Noah's Ark\",\"Popeye\",\"The Devil and Max Devlin\",\"Dragonslayer\",\"The Fox and the Hound\",\"The Fox and the Hound\",\"The Fox and the Hound\",\"Tex\",\"Trenchcoat\",\"Something Wicked This Way Comes\",\"Never Cry Wolf\",\"The Black Cauldron\",\"The Black Cauldron\",\"The Journey of Natty Gann\",\"The Great Mouse Detective\",\"The Great Mouse Detective\",\"The Great Mouse Detective\",\"The Great Mouse Detective\",\"Benji the Hunted\",\"Oliver & Company\",\"Honey, I Shrunk the Kids\",\"Cheetah\",\"DuckTales the Movie: Treasure of the Lost Lamp\",\"The Rescuers Down Under\",\"The Rescuers Down Under\",\"White Fang\",\"Wild Hearts Can't Be Broken\",\"The Rocketeer\",\"Beauty and the Beast\",\"Beauty and the Beast\",\"Newsies\",\"Honey, I Blew Up the Kid\",\"The Mighty Ducks\",\"Aladdin\",\"Aladdin\",\"The Muppet Christmas Carol\",\"Homeward Bound: The Incredible Journey\",\"A Far Off Place\",\"The Adventures of Huck Finn\",\"Hocus Pocus\",\"Cool Runnings\",\"Iron Will\",\"Blank Check\",\"D2: The Mighty Ducks\",\"White Fang 2: Myth of the White Wolf\",\"The Lion King\",\"The Lion King\",\"Angels in the Outfield\",\"The Santa Clause\",\"Heavyweights\",\"Man of the House\",\"Tall Tale\",\"A Goofy Movie\",\"Pocahontas\",\"Pocahontas\",\"The Big Green\",\"Toy Story\",\"Tom and Huck\",\"Muppet Treasure Island\",\"Homeward Bound II: Lost in San Francisco\",\"The Hunchback of Notre Dame\",\"The Hunchback of Notre Dame\",\"First Kid\",\"D3: The Mighty Ducks\",\"101 Dalmatians\",\"That Darn Cat\",\"Hercules\",\"Hercules\",\"George of the Jungle\",\"RocketMan\",\"Flubber\",\"Mr. Magoo\",\"Meet the Deedles\",\"Mulan\",\"Mulan\",\"The Parent Trap\",\"I'll Be Home for Christmas\",\"A Bug's Life\",\"Mighty Joe Young\",\"My Favorite Martian\",\"Doug's 1st Movie\",\"Tarzan\",\"Tarzan\",\"Inspector Gadget\",\"Toy Story 2\",\"Fantasia 2000\",\"Fantasia 2000\",\"Fantasia 2000\",\"Fantasia 2000\",\"Fantasia 2000\",\"Fantasia 2000\",\"Fantasia 2000\",\"The Tigger Movie\",\"Dinosaur\",\"Dinosaur\",\"The Kid\",\"Remember The Titans\",\"102 Dalmatians\",\"The Emperor's New Groove\",\"Recess: School's Out\",\"Atlantis: The Lost Empire\",\"Atlantis: The Lost Empire\",\"The Princess Diaries\",\"Max Keeble's Big Move\",\"Monsters, Inc.\",\"Snow Dogs\",\"Return to Never Land\",\"The Rookie\",\"Lilo & Stitch\",\"Lilo & Stitch\",\"The Country Bears\",\"Tuck Everlasting\",\"The Santa Clause 2\",\"Treasure Planet\",\"Treasure Planet\",\"Piglet's Big Movie\",\"Ghosts of the Abyss\",\"Holes\",\"The Lizzie McGuire Movie\",\"Finding Nemo\",\"Pirates of the Caribbean: The Curse of the Black Pearl\",\"Freaky Friday\",\"Brother Bear\",\"Brother Bear\",\"The Haunted Mansion\",\"The Young Black Stallion\",\"Teacher's Pet\",\"Miracle\",\"Confessions of a Teenage Drama Queen\",\"Home on the Range\",\"Home on the Range\",\"Around the World in 80 Days\",\"The Princess Diaries 2: Royal Engagement\",\"The Incredibles\",\"National Treasure\",\"Aliens of the Deep\",\"Aliens of the Deep\",\"Pooh's Heffalump Movie\",\"The Pacifier\",\"Ice Princess\",\"Herbie: Fully Loaded\",\"Sky High\",\"The Greatest Game Ever Played\",\"Chicken Little\",\"Roving Mars\",\"Eight Below\",\"The Shaggy Dog\",\"Cars\",\"Pirates of the Caribbean: Dead Man's Chest\",\"Invincible\",\"The Nightmare Before Christmas\",\"The Santa Clause 3: The Escape Clause\",\"Bridge to Terabithia\",\"Meet the Robinsons\",\"Pirates of the Caribbean: At World's End\",\"Ratatouille\",\"Underdog\",\"The Game Plan\",\"Enchanted\",\"National Treasure: Book of Secrets\",\"Hannah Montana and Miley Cyrus: Best of Both Worlds Concert\",\"College Road Trip\",\"WALL-E\",\"Beverly Hills Chihuahua\",\"Morning Light\",\"Bolt\",\"Bolt\",\"Bedtime Stories\",\"Jonas Brothers: The 3D Concert Experience\",\"Race to Witch Mountain\",\"Hannah Montana: The Movie\",\"Up\",\"G-Force\",\"A Christmas Carol\",\"Old Dogs\",\"The Princess and the Frog\",\"The Princess and the Frog\",\"Alice in Wonderland\",\"Waking Sleeping Beauty\",\"Prince of Persia: The Sands of Time\",\"Toy Story 3\",\"The Sorcerer's Apprentice\",\"Secretariat\",\"Tangled\",\"Tangled\",\"The Boys: The Sherman Brothers' Story\",\"The Boys: The Sherman Brothers' Story\",\"Tron: Legacy\",\"Mars Needs Moms\",\"Prom\",\"Pirates of the Caribbean: On Stranger Tides\",\"Cars 2\",\"Winnie the Pooh\",\"Winnie the Pooh\",\"The Muppets\",\"John Carter\",\"Brave\",\"Brave\",\"The Odd Life of Timothy Green\",\"Frankenweenie\",\"Wreck-It Ralph\",\"Oz the Great and Powerful\",\"Monsters University\",\"The Lone Ranger\",\"Planes\",\"Frozen\",\"Frozen\",\"Muppets Most Wanted\",\"Bears\",\"Bears\",\"Million Dollar Arm\",\"Maleficent\",\"Planes: Fire & Rescue\",\"Alexander and the Terrible, Horrible, No Good, Very Bad Day\",\"Big Hero 6\",\"Big Hero 6\",\"Into the Woods\",\"McFarland, USA\",\"Monkey Kingdom\",\"Monkey Kingdom\",\"Tomorrowland\",\"Inside Out\",\"The Good Dinosaur\",\"The Finest Hours\",\"Zootopia\",\"Zootopia\",\"The Jungle Book\",\"Alice Through the Looking Glass\",\"Finding Dory\",\"The BFG\",\"Pete's Dragon\",\"Queen of Katwe\",\"Moana\",\"Moana\",\"Beauty and the Beast\",\"Pirates of the Caribbean: Dead Men Tell No Tales\",\"Pirates of the Caribbean: Dead Men Tell No Tales\",\"Cars 3\",\"Coco\",\"A Wrinkle in Time\",\"Incredibles 2\",\"Christopher Robin\",\"The Nutcracker and the Four Realms\",\"The Nutcracker and the Four Realms\",\"Ralph Breaks the Internet\",\"Ralph Breaks the Internet\",\"Mary Poppins Returns\",\"Dumbo\",\"Penguins\",\"Penguins\",\"Toy Story 4\",\"The Lion King\",\"Maleficent: Mistress of Evil\",\"Frozen II\",\"Frozen II\",\"Onward\",\"Mulan\"],\"legendgroup\":\"United States\",\"marker\":{\"color\":\"#636efa\",\"size\":[83.0,83.0,83.0,83.0,83.0,83.0,88.0,88.0,88.0,88.0,88.0,88.0,88.0,126.0,126.0,126.0,126.0,126.0,126.0,126.0,126.0,126.0,126.0,126.0,126.0,74.0,74.0,74.0,74.0,74.0,74.0,74.0,74.0,74.0,74.0,64.0,64.0,64.0,64.0,64.0,64.0,64.0,64.0,70.0,70.0,70.0,70.0,70.0,70.0,70.0,70.0,70.0,42.0,42.0,42.0,42.0,42.0,65.0,65.0,65.0,65.0,65.0,65.0,71.0,71.0,71.0,71.0,71.0,75.0,75.0,75.0,75.0,75.0,94.0,94.0,94.0,94.0,73.0,73.0,73.0,73.0,75.0,75.0,75.0,75.0,82.0,82.0,68.0,68.0,68.0,74.0,74.0,74.0,75.0,75.0,75.0,77.0,77.0,77.0,69.0,60.0,127.0,92.0,76.0,76.0,76.0,75.0,85.0,90.0,75.0,75.0,83.0,97.0,75.0,75.0,75.0,75.0,104.0,105.0,95.0,134.0,69.0,126.0,126.0,79.0,79.0,79.0,128.0,105.0,98.0,130.0,98.0,100.0,118.0,103.0,110.0,79.0,91.0,91.0,139.0,92.0,131.0,87.0,116.0,93.0,110.0,131.0,101.0,108.0,84.0,78.0,164.0,106.0,110.0,99.0,113.0,108.0,112.0,91.0,100.0,100.0,79.0,89.0,118.0,88.0,93.0,93.0,90.0,83.0,96.0,88.0,89.0,93.0,92.0,97.0,100.0,95.0,91.0,95.0,77.0,77.0,77.0,104.0,128.0,88.0,98.0,112.0,112.0,84.0,84.0,98.0,97.0,114.0,96.0,109.0,83.0,83.0,83.0,103.0,91.0,95.0,105.0,80.0,80.0,101.0,74.0,74.0,74.0,74.0,89.0,74.0,93.0,84.0,69.0,77.0,77.0,107.0,88.0,108.0,84.0,84.0,121.0,89.0,104.0,90.0,90.0,86.0,84.0,108.0,107.0,96.0,98.0,108.0,94.0,106.0,102.0,88.0,88.0,102.0,97.0,100.0,96.0,98.0,78.0,81.0,81.0,99.0,81.0,92.0,100.0,89.0,91.0,91.0,101.0,104.0,103.0,86.0,93.0,93.0,92.0,95.0,93.0,87.0,93.0,87.0,87.0,128.0,86.0,95.0,114.0,93.0,83.0,88.0,88.0,78.0,92.0,74.0,74.0,74.0,74.0,74.0,74.0,74.0,77.0,82.0,82.0,104.0,113.0,100.0,78.0,83.0,96.0,96.0,115.0,86.0,92.0,99.0,73.0,128.0,85.0,85.0,88.0,96.0,104.0,95.0,95.0,75.0,61.0,117.0,94.0,100.0,143.0,97.0,85.0,85.0,86.0,50.0,74.0,136.0,89.0,76.0,76.0,120.0,113.0,115.0,131.0,100.0,100.0,68.0,95.0,97.0,101.0,100.0,120.0,81.0,40.0,120.0,99.0,117.0,151.0,104.0,76.0,92.0,95.0,94.0,168.0,111.0,82.0,110.0,107.0,124.0,74.0,83.0,97.0,91.0,100.0,96.0,96.0,99.0,76.0,98.0,97.0,96.0,90.0,96.0,88.0,97.0,97.0,108.0,85.0,116.0,103.0,109.0,123.0,100.0,100.0,101.0,101.0,125.0,88.0,104.0,137.0,106.0,69.0,69.0,103.0,132.0,93.0,93.0,104.0,87.0,101.0,130.0,104.0,149.0,92.0,102.0,102.0,107.0,77.0,77.0,124.0,97.0,84.0,81.0,102.0,102.0,124.0,129.0,82.0,82.0,130.0,94.0,94.0,117.0,108.0,108.0,106.0,113.0,97.0,117.0,103.0,124.0,107.0,107.0,129.0,129.0,129.0,102.0,105.0,109.0,118.0,104.0,99.0,99.0,112.0,112.0,131.0,112.0,76.0,76.0,100.0,118.0,119.0,103.0,103.0,102.0,115.0],\"sizemode\":\"area\",\"sizeref\":0.42,\"symbol\":\"circle\"},\"mode\":\"markers\",\"name\":\"United States\",\"orientation\":\"v\",\"showlegend\":true,\"x\":[1490000.0,1490000.0,1490000.0,1490000.0,1490000.0,1490000.0,2600000.0,2600000.0,2600000.0,2600000.0,2600000.0,2600000.0,2600000.0,2280000.0,2280000.0,2280000.0,2280000.0,2280000.0,2280000.0,2280000.0,2280000.0,2280000.0,2280000.0,2280000.0,2280000.0,600000.0,600000.0,600000.0,600000.0,600000.0,600000.0,600000.0,600000.0,600000.0,600000.0,950000.0,950000.0,950000.0,950000.0,950000.0,950000.0,950000.0,950000.0,858000.0,858000.0,858000.0,858000.0,858000.0,858000.0,858000.0,858000.0,858000.0,63588612.27106227,63588612.27106227,63588612.27106227,63588612.27106227,63588612.27106227,788000.0,788000.0,788000.0,788000.0,788000.0,788000.0,63588612.27106227,63588612.27106227,63588612.27106227,63588612.27106227,63588612.27106227,1350000.0,1350000.0,1350000.0,1350000.0,1350000.0,2125000.0,2125000.0,2125000.0,2125000.0,63588612.27106227,63588612.27106227,63588612.27106227,63588612.27106227,1500000.0,1500000.0,1500000.0,1500000.0,1500000.0,1500000.0,63588612.27106227,63588612.27106227,63588612.27106227,2900000.0,2900000.0,2900000.0,3000000.0,3000000.0,3000000.0,4000000.0,4000000.0,4000000.0,300000.0,63588612.27106227,5000000.0,63588612.27106227,4000000.0,4000000.0,4000000.0,63588612.27106227,63588612.27106227,63588612.27106227,63588612.27106227,63588612.27106227,63588612.27106227,63588612.27106227,6000000.0,6000000.0,6000000.0,6000000.0,1000000.0,2000000.0,63588612.27106227,2500000.0,63588612.27106227,4000000.0,4000000.0,3600000.0,3600000.0,3600000.0,63588612.27106227,3000000.0,63588612.27106227,3000000.0,63588612.27106227,63588612.27106227,63588612.27106227,63588612.27106227,63588612.27106227,3000000.0,63588612.27106227,63588612.27106227,4400000.0,63588612.27106227,63588612.27106227,63588612.27106227,63588612.27106227,63588612.27106227,63588612.27106227,63588612.27106227,63588612.27106227,63588612.27106227,63588612.27106227,4000000.0,5000000.0,63588612.27106227,63588612.27106227,63588612.27106227,63588612.27106227,5000000.0,63588612.27106227,63588612.27106227,63588612.27106227,63588612.27106227,4000000.0,63588612.27106227,6300000.0,63588612.27106227,63588612.27106227,63588612.27106227,63588612.27106227,5000000.0,63588612.27106227,63588612.27106227,63588612.27106227,8000000.0,63588612.27106227,63588612.27106227,63588612.27106227,63588612.27106227,63588612.27106227,5000000.0,7500000.0,7500000.0,7500000.0,63588612.27106227,10000000.0,63588612.27106227,20000000.0,63588612.27106227,63588612.27106227,9000000.0,9000000.0,63588612.27106227,6000000.0,20000000.0,63588612.27106227,18000000.0,12000000.0,12000000.0,12000000.0,5000000.0,63588612.27106227,19000000.0,11000000.0,25000000.0,25000000.0,63588612.27106227,14000000.0,14000000.0,14000000.0,14000000.0,63588612.27106227,31000000.0,18000000.0,5000000.0,20000000.0,63588612.27106227,63588612.27106227,14000000.0,63588612.27106227,35000000.0,25000000.0,25000000.0,15000000.0,40000000.0,14000000.0,28000000.0,28000000.0,12000000.0,63588612.27106227,63588612.27106227,6500000.0,28000000.0,17000000.0,63588612.27106227,13000000.0,63588612.27106227,63588612.27106227,45000000.0,45000000.0,31000000.0,22000000.0,63588612.27106227,22000000.0,32000000.0,63588612.27106227,55000000.0,55000000.0,12000000.0,30000000.0,63588612.27106227,31000000.0,63588612.27106227,100000000.0,100000000.0,15000000.0,63588612.27106227,75000000.0,63588612.27106227,85000000.0,85000000.0,55000000.0,16000000.0,80000000.0,30000000.0,24000000.0,90000000.0,90000000.0,15000000.0,30000000.0,120000000.0,90000000.0,65000000.0,5000000.0,130000000.0,130000000.0,90000000.0,90000000.0,85000000.0,85000000.0,85000000.0,85000000.0,85000000.0,85000000.0,85000000.0,15000000.0,127500000.0,127500000.0,65000000.0,30000000.0,85000000.0,100000000.0,23000000.0,90000000.0,90000000.0,26000000.0,25000000.0,115000000.0,33000000.0,20000000.0,22000000.0,80000000.0,80000000.0,35000000.0,15000000.0,65000000.0,140000000.0,140000000.0,46000000.0,13000000.0,20000000.0,17000000.0,94000000.0,140000000.0,26000000.0,46000000.0,46000000.0,90000000.0,63588612.27106227,10000000.0,28000000.0,15000000.0,110000000.0,110000000.0,110000000.0,45000000.0,92000000.0,100000000.0,63588612.27106227,63588612.27106227,20000000.0,56000000.0,25000000.0,50000000.0,35000000.0,25000000.0,150000000.0,1000000.0,40000000.0,50000000.0,120000000.0,225000000.0,30000000.0,18000000.0,12000000.0,20000000.0,63588612.27106227,300000000.0,150000000.0,25000000.0,22000000.0,85000000.0,130000000.0,7000000.0,25000000.0,180000000.0,20000000.0,63588612.27106227,150000000.0,150000000.0,80000000.0,63588612.27106227,50000000.0,30000000.0,175000000.0,150000000.0,175000000.0,35000000.0,105000000.0,105000000.0,200000000.0,63588612.27106227,150.0,200000000.0,150000000.0,35000000.0,260000000.0,260000000.0,63588612.27106227,63588612.27106227,150000000.0,150000000.0,8000000.0,410600000.0,200000000.0,30000000.0,30000000.0,45000000.0,306600000.0,185000000.0,185000000.0,25000000.0,39000000.0,165000000.0,200000000.0,200000000.0,225000000.0,50000000.0,150000000.0,150000000.0,51000000.0,5000000.0,5000000.0,25000000.0,180000000.0,50000000.0,28000000.0,165000000.0,165000000.0,50000000.0,25000000.0,5000000.0,5000000.0,180000000.0,175000000.0,175000000.0,70000000.0,150000000.0,150000000.0,175000000.0,170000000.0,175000000.0,140000000.0,65000000.0,15000000.0,150000000.0,150000000.0,160000000.0,230000000.0,230000000.0,175000000.0,175000000.0,100000000.0,200000000.0,75000000.0,120000000.0,120000000.0,175000000.0,175000000.0,130000000.0,170000000.0,63588612.27106227,63588612.27106227,200000000.0,250000000.0,185000000.0,150000000.0,150000000.0,175000000.0,200000000.0],\"xaxis\":\"x\",\"y\":[7.6,7.6,7.6,7.6,7.6,7.6,7.4,7.4,7.4,7.4,7.4,7.4,7.4,7.8,7.8,7.8,7.8,7.8,7.8,7.8,7.8,7.8,7.8,7.8,7.8,6.9,6.9,6.9,6.9,6.9,6.9,6.9,6.9,6.9,6.9,7.2,7.2,7.2,7.2,7.2,7.2,7.2,7.2,7.3,7.3,7.3,7.3,7.3,7.3,7.3,7.3,7.3,6.1,6.1,6.1,6.1,6.1,6.5,6.5,6.5,6.5,6.5,6.5,6.4,6.4,6.4,6.4,6.4,6.3,6.3,6.3,6.3,6.3,7.1,7.1,7.1,7.1,6.6,6.6,6.6,6.6,6.4,6.4,6.4,6.4,6.8,6.8,7.0,7.0,7.0,6.9,6.9,6.9,6.4,6.4,6.4,7.3,7.3,7.3,7.5,7.7,7.2,7.0,7.3,7.3,7.3,7.2,6.9,5.8,7.2,7.2,7.3,6.5,7.2,7.2,7.2,7.2,4.4,7.2,7.0,7.4,7.4,7.2,7.2,7.2,7.2,7.2,6.5,6.3,5.4,5.8,6.6,6.1,6.6,6.2,7.1,7.2,6.4,6.4,7.8,6.0,6.7,6.1,6.8,6.7,6.0,7.2,5.9,6.6,6.6,7.4,6.8,6.9,6.5,6.2,6.5,6.5,6.0,6.0,5.5,6.4,7.1,5.9,7.1,6.3,6.5,5.8,6.3,6.6,5.2,5.7,6.2,6.3,6.1,6.4,6.5,5.9,5.9,6.2,6.9,6.9,6.9,5.7,6.7,6.2,6.0,6.5,6.5,6.3,6.3,5.0,5.8,5.3,5.1,6.7,7.3,7.3,7.3,6.5,5.3,6.8,7.5,6.4,6.4,7.1,7.2,7.2,7.2,7.2,6.3,6.7,6.4,6.1,6.9,6.9,6.9,6.7,7.2,6.5,8.0,8.0,7.0,4.9,6.5,8.0,8.0,7.7,6.9,6.6,6.2,6.9,7.0,6.6,5.3,6.1,5.4,8.5,8.5,6.2,6.5,6.7,5.4,5.9,6.8,6.7,6.7,5.6,8.3,5.5,7.0,6.0,6.9,6.9,5.3,5.5,5.7,4.7,7.3,7.3,5.5,7.3,5.3,4.0,4.1,7.6,7.6,6.5,5.5,7.2,5.6,5.1,5.0,7.3,7.3,4.1,7.9,7.2,7.2,7.2,7.2,7.2,7.2,7.2,6.3,6.5,6.5,8.3,7.8,4.9,7.3,6.6,6.9,6.9,6.3,5.4,8.0,5.2,5.8,6.9,7.2,7.2,4.1,6.6,5.6,7.2,7.2,6.1,6.8,7.0,5.5,8.1,8.0,6.2,6.8,6.8,5.0,5.6,7.1,7.5,4.7,5.3,5.3,5.9,5.8,8.0,6.9,6.4,6.4,6.4,5.6,6.0,4.8,6.2,7.4,5.7,7.2,7.3,4.4,7.1,7.3,7.1,8.0,4.7,7.1,6.8,7.1,8.0,4.7,6.1,7.0,6.5,2.4,4.3,8.4,3.8,5.8,6.8,6.8,6.0,1.5,5.7,4.5,8.2,5.1,6.8,5.4,7.1,7.1,6.4,7.6,6.6,8.3,6.1,7.2,7.7,7.7,7.8,7.8,6.8,5.4,5.4,6.6,6.1,7.2,7.2,7.1,6.6,7.1,7.1,6.6,6.9,7.7,6.3,7.3,6.4,5.7,7.4,7.4,6.4,7.4,7.4,7.0,7.0,6.0,6.2,7.8,7.8,5.9,7.4,7.3,7.3,6.4,8.1,6.7,6.8,8.0,8.0,7.4,6.2,7.3,6.4,6.7,7.4,7.6,7.6,8.0,6.6,6.6,6.7,8.4,4.2,7.6,7.3,5.5,5.5,7.1,7.1,6.7,7.2,7.0,7.0,7.8,8.5,6.6,6.9,6.9,7.4,7.6],\"yaxis\":\"y\",\"type\":\"scatter\"},{\"hovertemplate\":\"<b>%{hovertext}</b><br><br>Country=United States, United Kingdom<br>Budget (float)=%{x}<br>Movie-Rating=%{y}<br>Running time (int)=%{marker.size}<extra></extra>\",\"hovertext\":[\"Treasure Island\",\"The Story of Robin Hood and His Merrie Men\",\"Return to Oz\",\"Cinderella\"],\"legendgroup\":\"United States, United Kingdom\",\"marker\":{\"color\":\"#EF553B\",\"size\":[96.0,84.0,113.0,106.0],\"sizemode\":\"area\",\"sizeref\":0.42,\"symbol\":\"circle\"},\"mode\":\"markers\",\"name\":\"United States, United Kingdom\",\"orientation\":\"v\",\"showlegend\":true,\"x\":[1800000.0,63588612.27106227,28000000.0,95000000.0],\"xaxis\":\"x\",\"y\":[6.9,6.7,6.7,6.9],\"yaxis\":\"y\",\"type\":\"scatter\"},{\"hovertemplate\":\"<b>%{hovertext}</b><br><br>Country=United Kingdom, United States<br>Budget (float)=%{x}<br>Movie-Rating=%{y}<br>Running time (int)=%{marker.size}<extra></extra>\",\"hovertext\":[\"The Sword and the Rose\",\"The Three Lives of Thomasina\",\"One of Our Dinosaurs is Missing\",\"Night Crossing\",\"James and the Giant Peach\",\"Valiant\",\"The Chronicles of Narnia: The Lion, the Witch and the Wardrobe\",\"The Chronicles of Narnia: Prince Caspian\"],\"legendgroup\":\"United Kingdom, United States\",\"marker\":{\"color\":\"#00cc96\",\"size\":[92.0,97.0,100.0,107.0,79.0,76.0,143.0,150.0],\"sizemode\":\"area\",\"sizeref\":0.42,\"symbol\":\"circle\"},\"mode\":\"markers\",\"name\":\"United Kingdom, United States\",\"orientation\":\"v\",\"showlegend\":true,\"x\":[2000000.0,63588612.27106227,63588612.27106227,63588612.27106227,38000000.0,35000000.0,180000000.0,225000000.0],\"xaxis\":\"x\",\"y\":[6.4,7.2,6.0,6.5,6.7,5.5,6.9,6.5],\"yaxis\":\"y\",\"type\":\"scatter\"},{\"hovertemplate\":\"<b>%{hovertext}</b><br><br>Country=United States, Mexico<br>Budget (float)=%{x}<br>Movie-Rating=%{y}<br>Running time (int)=%{marker.size}<extra></extra>\",\"hovertext\":[\"The Littlest Outlaw\"],\"legendgroup\":\"United States, Mexico\",\"marker\":{\"color\":\"#ab63fa\",\"size\":[73.0],\"sizemode\":\"area\",\"sizeref\":0.42,\"symbol\":\"circle\"},\"mode\":\"markers\",\"name\":\"United States, Mexico\",\"orientation\":\"v\",\"showlegend\":true,\"x\":[63588612.27106227],\"xaxis\":\"x\",\"y\":[6.1],\"yaxis\":\"y\",\"type\":\"scatter\"},{\"hovertemplate\":\"<b>%{hovertext}</b><br><br>Country=United States, Canada<br>Budget (float)=%{x}<br>Movie-Rating=%{y}<br>Running time (int)=%{marker.size}<extra></extra>\",\"hovertext\":[\"White Wilderness\",\"The Incredible Journey\",\"One Magic Christmas\",\"Squanto: A Warrior's Tale\",\"Air Bud\",\"The Wild\"],\"legendgroup\":\"United States, Canada\",\"marker\":{\"color\":\"#FFA15A\",\"size\":[72.0,80.0,89.0,102.0,98.0,82.0],\"sizemode\":\"area\",\"sizeref\":0.42,\"symbol\":\"circle\"},\"mode\":\"markers\",\"name\":\"United States, Canada\",\"orientation\":\"v\",\"showlegend\":true,\"x\":[63588612.27106227,63588612.27106227,63588612.27106227,63588612.27106227,3000000.0,80000000.0],\"xaxis\":\"x\",\"y\":[5.1,7.1,6.5,6.0,5.2,5.3],\"yaxis\":\"y\",\"type\":\"scatter\"},{\"hovertemplate\":\"<b>%{hovertext}</b><br><br>Country=United States, Norway<br>Budget (float)=%{x}<br>Movie-Rating=%{y}<br>Running time (int)=%{marker.size}<extra></extra>\",\"hovertext\":[\"Flight of the Navigator\"],\"legendgroup\":\"United States, Norway\",\"marker\":{\"color\":\"#19d3f3\",\"size\":[90.0],\"sizemode\":\"area\",\"sizeref\":0.42,\"symbol\":\"circle\"},\"mode\":\"markers\",\"name\":\"United States, Norway\",\"orientation\":\"v\",\"showlegend\":true,\"x\":[9000000.0],\"xaxis\":\"x\",\"y\":[6.9],\"yaxis\":\"y\",\"type\":\"scatter\"},{\"hovertemplate\":\"<b>%{hovertext}</b><br><br>Country=Norway, Sweden, United States<br>Budget (float)=%{x}<br>Movie-Rating=%{y}<br>Running time (int)=%{marker.size}<extra></extra>\",\"hovertext\":[\"Shipwrecked\"],\"legendgroup\":\"Norway, Sweden, United States\",\"marker\":{\"color\":\"#FF6692\",\"size\":[93.0],\"sizemode\":\"area\",\"sizeref\":0.42,\"symbol\":\"circle\"},\"mode\":\"markers\",\"name\":\"Norway, Sweden, United States\",\"orientation\":\"v\",\"showlegend\":true,\"x\":[8700000.0],\"xaxis\":\"x\",\"y\":[6.7],\"yaxis\":\"y\",\"type\":\"scatter\"},{\"hovertemplate\":\"<b>%{hovertext}</b><br><br>Country=United States, Austria<br>Budget (float)=%{x}<br>Movie-Rating=%{y}<br>Running time (int)=%{marker.size}<extra></extra>\",\"hovertext\":[\"The Three Musketeers\"],\"legendgroup\":\"United States, Austria\",\"marker\":{\"color\":\"#B6E880\",\"size\":[105.0],\"sizemode\":\"area\",\"sizeref\":0.42,\"symbol\":\"circle\"},\"mode\":\"markers\",\"name\":\"United States, Austria\",\"orientation\":\"v\",\"showlegend\":true,\"x\":[30000000.0],\"xaxis\":\"x\",\"y\":[5.7],\"yaxis\":\"y\",\"type\":\"scatter\"},{\"hovertemplate\":\"<b>%{hovertext}</b><br><br>Country=United States, France<br>Budget (float)=%{x}<br>Movie-Rating=%{y}<br>Running time (int)=%{marker.size}<extra></extra>\",\"hovertext\":[\"Jungle 2 Jungle\"],\"legendgroup\":\"United States, France\",\"marker\":{\"color\":\"#FF97FF\",\"size\":[105.0],\"sizemode\":\"area\",\"sizeref\":0.42,\"symbol\":\"circle\"},\"mode\":\"markers\",\"name\":\"United States, France\",\"orientation\":\"v\",\"showlegend\":true,\"x\":[32000000.0],\"xaxis\":\"x\",\"y\":[5.2],\"yaxis\":\"y\",\"type\":\"scatter\"},{\"hovertemplate\":\"<b>%{hovertext}</b><br><br>Country=United States, Australia<br>Budget (float)=%{x}<br>Movie-Rating=%{y}<br>Running time (int)=%{marker.size}<extra></extra>\",\"hovertext\":[\"The Jungle Book 2\"],\"legendgroup\":\"United States, Australia\",\"marker\":{\"color\":\"#FECB52\",\"size\":[72.0],\"sizemode\":\"area\",\"sizeref\":0.42,\"symbol\":\"circle\"},\"mode\":\"markers\",\"name\":\"United States, Australia\",\"orientation\":\"v\",\"showlegend\":true,\"x\":[20000000.0],\"xaxis\":\"x\",\"y\":[5.4],\"yaxis\":\"y\",\"type\":\"scatter\"},{\"hovertemplate\":\"<b>%{hovertext}</b><br><br>Country=Canada, Malaysia, United States<br>Budget (float)=%{x}<br>Movie-Rating=%{y}<br>Running time (int)=%{marker.size}<extra></extra>\",\"hovertext\":[\"Sacred Planet\",\"Sacred Planet\"],\"legendgroup\":\"Canada, Malaysia, United States\",\"marker\":{\"color\":\"#636efa\",\"size\":[40.0,40.0],\"sizemode\":\"area\",\"sizeref\":0.42,\"symbol\":\"circle\"},\"mode\":\"markers\",\"name\":\"Canada, Malaysia, United States\",\"orientation\":\"v\",\"showlegend\":true,\"x\":[63588612.27106227,63588612.27106227],\"xaxis\":\"x\",\"y\":[6.0,6.0],\"yaxis\":\"y\",\"type\":\"scatter\"},{\"hovertemplate\":\"<b>%{hovertext}</b><br><br>Country=France, United Kingdom, Germany, United States<br>Budget (float)=%{x}<br>Movie-Rating=%{y}<br>Running time (int)=%{marker.size}<extra></extra>\",\"hovertext\":[\"Earth\",\"Earth\"],\"legendgroup\":\"France, United Kingdom, Germany, United States\",\"marker\":{\"color\":\"#EF553B\",\"size\":[99.0,99.0],\"sizemode\":\"area\",\"sizeref\":0.42,\"symbol\":\"circle\"},\"mode\":\"markers\",\"name\":\"France, United Kingdom, Germany, United States\",\"orientation\":\"v\",\"showlegend\":true,\"x\":[47000000.0,47000000.0],\"xaxis\":\"x\",\"y\":[8.0,8.0],\"yaxis\":\"y\",\"type\":\"scatter\"},{\"hovertemplate\":\"<b>%{hovertext}</b><br><br>Country=France<br>Budget (float)=%{x}<br>Movie-Rating=%{y}<br>Running time (int)=%{marker.size}<extra></extra>\",\"hovertext\":[\"Oceans\",\"Oceans\",\"Oceans\",\"March of the Penguins\"],\"legendgroup\":\"France\",\"marker\":{\"color\":\"#00cc96\",\"size\":[104.0,104.0,104.0,80.0],\"sizemode\":\"area\",\"sizeref\":0.42,\"symbol\":\"circle\"},\"mode\":\"markers\",\"name\":\"France\",\"orientation\":\"v\",\"showlegend\":true,\"x\":[80000000.0,80000000.0,80000000.0,8000000.0],\"xaxis\":\"x\",\"y\":[7.8,7.8,7.8,7.5],\"yaxis\":\"y\",\"type\":\"scatter\"},{\"hovertemplate\":\"<b>%{hovertext}</b><br><br>Country=United States, France, United Kingdom<br>Budget (float)=%{x}<br>Movie-Rating=%{y}<br>Running time (int)=%{marker.size}<extra></extra>\",\"hovertext\":[\"African Cats\",\"African Cats\",\"Chimpanzee\",\"Chimpanzee\"],\"legendgroup\":\"United States, France, United Kingdom\",\"marker\":{\"color\":\"#ab63fa\",\"size\":[89.0,89.0,77.0,77.0],\"sizemode\":\"area\",\"sizeref\":0.42,\"symbol\":\"circle\"},\"mode\":\"markers\",\"name\":\"United States, France, United Kingdom\",\"orientation\":\"v\",\"showlegend\":true,\"x\":[5000000.0,5000000.0,5000000.0,5000000.0],\"xaxis\":\"x\",\"y\":[7.6,7.6,7.2,7.2],\"yaxis\":\"y\",\"type\":\"scatter\"},{\"hovertemplate\":\"<b>%{hovertext}</b><br><br>Country=Australia, United Kingdom, United States<br>Budget (float)=%{x}<br>Movie-Rating=%{y}<br>Running time (int)=%{marker.size}<extra></extra>\",\"hovertext\":[\"Saving Mr. Banks\"],\"legendgroup\":\"Australia, United Kingdom, United States\",\"marker\":{\"color\":\"#FFA15A\",\"size\":[125.0],\"sizemode\":\"area\",\"sizeref\":0.42,\"symbol\":\"circle\"},\"mode\":\"markers\",\"name\":\"Australia, United Kingdom, United States\",\"orientation\":\"v\",\"showlegend\":true,\"x\":[35000000.0],\"xaxis\":\"x\",\"y\":[7.5],\"yaxis\":\"y\",\"type\":\"scatter\"},{\"hovertemplate\":\"<b>%{hovertext}</b><br><br>Country=India<br>Budget (float)=%{x}<br>Movie-Rating=%{y}<br>Running time (int)=%{marker.size}<extra></extra>\",\"hovertext\":[\"Khoobsurat\"],\"legendgroup\":\"India\",\"marker\":{\"color\":\"#19d3f3\",\"size\":[127.0],\"sizemode\":\"area\",\"sizeref\":0.42,\"symbol\":\"circle\"},\"mode\":\"markers\",\"name\":\"India\",\"orientation\":\"v\",\"showlegend\":true,\"x\":[3200000.0],\"xaxis\":\"x\",\"y\":[6.4],\"yaxis\":\"y\",\"type\":\"scatter\"},{\"hovertemplate\":\"<b>%{hovertext}</b><br><br>Country=United States, China, France<br>Budget (float)=%{x}<br>Movie-Rating=%{y}<br>Running time (int)=%{marker.size}<extra></extra>\",\"hovertext\":[\"Born in China\"],\"legendgroup\":\"United States, China, France\",\"marker\":{\"color\":\"#FF6692\",\"size\":[76.0],\"sizemode\":\"area\",\"sizeref\":0.42,\"symbol\":\"circle\"},\"mode\":\"markers\",\"name\":\"United States, China, France\",\"orientation\":\"v\",\"showlegend\":true,\"x\":[5000000.0],\"xaxis\":\"x\",\"y\":[7.2],\"yaxis\":\"y\",\"type\":\"scatter\"}],                        {\"template\":{\"data\":{\"barpolar\":[{\"marker\":{\"line\":{\"color\":\"rgb(17,17,17)\",\"width\":0.5},\"pattern\":{\"fillmode\":\"overlay\",\"size\":10,\"solidity\":0.2}},\"type\":\"barpolar\"}],\"bar\":[{\"error_x\":{\"color\":\"#f2f5fa\"},\"error_y\":{\"color\":\"#f2f5fa\"},\"marker\":{\"line\":{\"color\":\"rgb(17,17,17)\",\"width\":0.5},\"pattern\":{\"fillmode\":\"overlay\",\"size\":10,\"solidity\":0.2}},\"type\":\"bar\"}],\"carpet\":[{\"aaxis\":{\"endlinecolor\":\"#A2B1C6\",\"gridcolor\":\"#506784\",\"linecolor\":\"#506784\",\"minorgridcolor\":\"#506784\",\"startlinecolor\":\"#A2B1C6\"},\"baxis\":{\"endlinecolor\":\"#A2B1C6\",\"gridcolor\":\"#506784\",\"linecolor\":\"#506784\",\"minorgridcolor\":\"#506784\",\"startlinecolor\":\"#A2B1C6\"},\"type\":\"carpet\"}],\"choropleth\":[{\"colorbar\":{\"outlinewidth\":0,\"ticks\":\"\"},\"type\":\"choropleth\"}],\"contourcarpet\":[{\"colorbar\":{\"outlinewidth\":0,\"ticks\":\"\"},\"type\":\"contourcarpet\"}],\"contour\":[{\"colorbar\":{\"outlinewidth\":0,\"ticks\":\"\"},\"colorscale\":[[0.0,\"#0d0887\"],[0.1111111111111111,\"#46039f\"],[0.2222222222222222,\"#7201a8\"],[0.3333333333333333,\"#9c179e\"],[0.4444444444444444,\"#bd3786\"],[0.5555555555555556,\"#d8576b\"],[0.6666666666666666,\"#ed7953\"],[0.7777777777777778,\"#fb9f3a\"],[0.8888888888888888,\"#fdca26\"],[1.0,\"#f0f921\"]],\"type\":\"contour\"}],\"heatmapgl\":[{\"colorbar\":{\"outlinewidth\":0,\"ticks\":\"\"},\"colorscale\":[[0.0,\"#0d0887\"],[0.1111111111111111,\"#46039f\"],[0.2222222222222222,\"#7201a8\"],[0.3333333333333333,\"#9c179e\"],[0.4444444444444444,\"#bd3786\"],[0.5555555555555556,\"#d8576b\"],[0.6666666666666666,\"#ed7953\"],[0.7777777777777778,\"#fb9f3a\"],[0.8888888888888888,\"#fdca26\"],[1.0,\"#f0f921\"]],\"type\":\"heatmapgl\"}],\"heatmap\":[{\"colorbar\":{\"outlinewidth\":0,\"ticks\":\"\"},\"colorscale\":[[0.0,\"#0d0887\"],[0.1111111111111111,\"#46039f\"],[0.2222222222222222,\"#7201a8\"],[0.3333333333333333,\"#9c179e\"],[0.4444444444444444,\"#bd3786\"],[0.5555555555555556,\"#d8576b\"],[0.6666666666666666,\"#ed7953\"],[0.7777777777777778,\"#fb9f3a\"],[0.8888888888888888,\"#fdca26\"],[1.0,\"#f0f921\"]],\"type\":\"heatmap\"}],\"histogram2dcontour\":[{\"colorbar\":{\"outlinewidth\":0,\"ticks\":\"\"},\"colorscale\":[[0.0,\"#0d0887\"],[0.1111111111111111,\"#46039f\"],[0.2222222222222222,\"#7201a8\"],[0.3333333333333333,\"#9c179e\"],[0.4444444444444444,\"#bd3786\"],[0.5555555555555556,\"#d8576b\"],[0.6666666666666666,\"#ed7953\"],[0.7777777777777778,\"#fb9f3a\"],[0.8888888888888888,\"#fdca26\"],[1.0,\"#f0f921\"]],\"type\":\"histogram2dcontour\"}],\"histogram2d\":[{\"colorbar\":{\"outlinewidth\":0,\"ticks\":\"\"},\"colorscale\":[[0.0,\"#0d0887\"],[0.1111111111111111,\"#46039f\"],[0.2222222222222222,\"#7201a8\"],[0.3333333333333333,\"#9c179e\"],[0.4444444444444444,\"#bd3786\"],[0.5555555555555556,\"#d8576b\"],[0.6666666666666666,\"#ed7953\"],[0.7777777777777778,\"#fb9f3a\"],[0.8888888888888888,\"#fdca26\"],[1.0,\"#f0f921\"]],\"type\":\"histogram2d\"}],\"histogram\":[{\"marker\":{\"pattern\":{\"fillmode\":\"overlay\",\"size\":10,\"solidity\":0.2}},\"type\":\"histogram\"}],\"mesh3d\":[{\"colorbar\":{\"outlinewidth\":0,\"ticks\":\"\"},\"type\":\"mesh3d\"}],\"parcoords\":[{\"line\":{\"colorbar\":{\"outlinewidth\":0,\"ticks\":\"\"}},\"type\":\"parcoords\"}],\"pie\":[{\"automargin\":true,\"type\":\"pie\"}],\"scatter3d\":[{\"line\":{\"colorbar\":{\"outlinewidth\":0,\"ticks\":\"\"}},\"marker\":{\"colorbar\":{\"outlinewidth\":0,\"ticks\":\"\"}},\"type\":\"scatter3d\"}],\"scattercarpet\":[{\"marker\":{\"colorbar\":{\"outlinewidth\":0,\"ticks\":\"\"}},\"type\":\"scattercarpet\"}],\"scattergeo\":[{\"marker\":{\"colorbar\":{\"outlinewidth\":0,\"ticks\":\"\"}},\"type\":\"scattergeo\"}],\"scattergl\":[{\"marker\":{\"line\":{\"color\":\"#283442\"}},\"type\":\"scattergl\"}],\"scattermapbox\":[{\"marker\":{\"colorbar\":{\"outlinewidth\":0,\"ticks\":\"\"}},\"type\":\"scattermapbox\"}],\"scatterpolargl\":[{\"marker\":{\"colorbar\":{\"outlinewidth\":0,\"ticks\":\"\"}},\"type\":\"scatterpolargl\"}],\"scatterpolar\":[{\"marker\":{\"colorbar\":{\"outlinewidth\":0,\"ticks\":\"\"}},\"type\":\"scatterpolar\"}],\"scatter\":[{\"marker\":{\"line\":{\"color\":\"#283442\"}},\"type\":\"scatter\"}],\"scatterternary\":[{\"marker\":{\"colorbar\":{\"outlinewidth\":0,\"ticks\":\"\"}},\"type\":\"scatterternary\"}],\"surface\":[{\"colorbar\":{\"outlinewidth\":0,\"ticks\":\"\"},\"colorscale\":[[0.0,\"#0d0887\"],[0.1111111111111111,\"#46039f\"],[0.2222222222222222,\"#7201a8\"],[0.3333333333333333,\"#9c179e\"],[0.4444444444444444,\"#bd3786\"],[0.5555555555555556,\"#d8576b\"],[0.6666666666666666,\"#ed7953\"],[0.7777777777777778,\"#fb9f3a\"],[0.8888888888888888,\"#fdca26\"],[1.0,\"#f0f921\"]],\"type\":\"surface\"}],\"table\":[{\"cells\":{\"fill\":{\"color\":\"#506784\"},\"line\":{\"color\":\"rgb(17,17,17)\"}},\"header\":{\"fill\":{\"color\":\"#2a3f5f\"},\"line\":{\"color\":\"rgb(17,17,17)\"}},\"type\":\"table\"}]},\"layout\":{\"annotationdefaults\":{\"arrowcolor\":\"#f2f5fa\",\"arrowhead\":0,\"arrowwidth\":1},\"autotypenumbers\":\"strict\",\"coloraxis\":{\"colorbar\":{\"outlinewidth\":0,\"ticks\":\"\"}},\"colorscale\":{\"diverging\":[[0,\"#8e0152\"],[0.1,\"#c51b7d\"],[0.2,\"#de77ae\"],[0.3,\"#f1b6da\"],[0.4,\"#fde0ef\"],[0.5,\"#f7f7f7\"],[0.6,\"#e6f5d0\"],[0.7,\"#b8e186\"],[0.8,\"#7fbc41\"],[0.9,\"#4d9221\"],[1,\"#276419\"]],\"sequential\":[[0.0,\"#0d0887\"],[0.1111111111111111,\"#46039f\"],[0.2222222222222222,\"#7201a8\"],[0.3333333333333333,\"#9c179e\"],[0.4444444444444444,\"#bd3786\"],[0.5555555555555556,\"#d8576b\"],[0.6666666666666666,\"#ed7953\"],[0.7777777777777778,\"#fb9f3a\"],[0.8888888888888888,\"#fdca26\"],[1.0,\"#f0f921\"]],\"sequentialminus\":[[0.0,\"#0d0887\"],[0.1111111111111111,\"#46039f\"],[0.2222222222222222,\"#7201a8\"],[0.3333333333333333,\"#9c179e\"],[0.4444444444444444,\"#bd3786\"],[0.5555555555555556,\"#d8576b\"],[0.6666666666666666,\"#ed7953\"],[0.7777777777777778,\"#fb9f3a\"],[0.8888888888888888,\"#fdca26\"],[1.0,\"#f0f921\"]]},\"colorway\":[\"#636efa\",\"#EF553B\",\"#00cc96\",\"#ab63fa\",\"#FFA15A\",\"#19d3f3\",\"#FF6692\",\"#B6E880\",\"#FF97FF\",\"#FECB52\"],\"font\":{\"color\":\"#f2f5fa\"},\"geo\":{\"bgcolor\":\"rgb(17,17,17)\",\"lakecolor\":\"rgb(17,17,17)\",\"landcolor\":\"rgb(17,17,17)\",\"showlakes\":true,\"showland\":true,\"subunitcolor\":\"#506784\"},\"hoverlabel\":{\"align\":\"left\"},\"hovermode\":\"closest\",\"mapbox\":{\"style\":\"dark\"},\"paper_bgcolor\":\"rgb(17,17,17)\",\"plot_bgcolor\":\"rgb(17,17,17)\",\"polar\":{\"angularaxis\":{\"gridcolor\":\"#506784\",\"linecolor\":\"#506784\",\"ticks\":\"\"},\"bgcolor\":\"rgb(17,17,17)\",\"radialaxis\":{\"gridcolor\":\"#506784\",\"linecolor\":\"#506784\",\"ticks\":\"\"}},\"scene\":{\"xaxis\":{\"backgroundcolor\":\"rgb(17,17,17)\",\"gridcolor\":\"#506784\",\"gridwidth\":2,\"linecolor\":\"#506784\",\"showbackground\":true,\"ticks\":\"\",\"zerolinecolor\":\"#C8D4E3\"},\"yaxis\":{\"backgroundcolor\":\"rgb(17,17,17)\",\"gridcolor\":\"#506784\",\"gridwidth\":2,\"linecolor\":\"#506784\",\"showbackground\":true,\"ticks\":\"\",\"zerolinecolor\":\"#C8D4E3\"},\"zaxis\":{\"backgroundcolor\":\"rgb(17,17,17)\",\"gridcolor\":\"#506784\",\"gridwidth\":2,\"linecolor\":\"#506784\",\"showbackground\":true,\"ticks\":\"\",\"zerolinecolor\":\"#C8D4E3\"}},\"shapedefaults\":{\"line\":{\"color\":\"#f2f5fa\"}},\"sliderdefaults\":{\"bgcolor\":\"#C8D4E3\",\"bordercolor\":\"rgb(17,17,17)\",\"borderwidth\":1,\"tickwidth\":0},\"ternary\":{\"aaxis\":{\"gridcolor\":\"#506784\",\"linecolor\":\"#506784\",\"ticks\":\"\"},\"baxis\":{\"gridcolor\":\"#506784\",\"linecolor\":\"#506784\",\"ticks\":\"\"},\"bgcolor\":\"rgb(17,17,17)\",\"caxis\":{\"gridcolor\":\"#506784\",\"linecolor\":\"#506784\",\"ticks\":\"\"}},\"title\":{\"x\":0.05},\"updatemenudefaults\":{\"bgcolor\":\"#506784\",\"borderwidth\":0},\"xaxis\":{\"automargin\":true,\"gridcolor\":\"#283442\",\"linecolor\":\"#506784\",\"ticks\":\"\",\"title\":{\"standoff\":15},\"zerolinecolor\":\"#283442\",\"zerolinewidth\":2},\"yaxis\":{\"automargin\":true,\"gridcolor\":\"#283442\",\"linecolor\":\"#506784\",\"ticks\":\"\",\"title\":{\"standoff\":15},\"zerolinecolor\":\"#283442\",\"zerolinewidth\":2}}},\"xaxis\":{\"anchor\":\"y\",\"domain\":[0.0,1.0],\"title\":{\"text\":\"Budget (float)\"}},\"yaxis\":{\"anchor\":\"x\",\"domain\":[0.0,1.0],\"title\":{\"text\":\"Movie-Rating\"}},\"legend\":{\"title\":{\"text\":\"Country\"},\"tracegroupgap\":0,\"itemsizing\":\"constant\"},\"title\":{\"text\":\"Budget-Rating relation\"}},                        {\"responsive\": true}                    ).then(function(){\n",
       "                            \n",
       "var gd = document.getElementById('ba7121cf-97ec-42a4-97a3-00818c39873e');\n",
       "var x = new MutationObserver(function (mutations, observer) {{\n",
       "        var display = window.getComputedStyle(gd).display;\n",
       "        if (!display || display === 'none') {{\n",
       "            console.log([gd, 'removed!']);\n",
       "            Plotly.purge(gd);\n",
       "            observer.disconnect();\n",
       "        }}\n",
       "}});\n",
       "\n",
       "// Listen for the removal of the full notebook cells\n",
       "var notebookContainer = gd.closest('#notebook-container');\n",
       "if (notebookContainer) {{\n",
       "    x.observe(notebookContainer, {childList: true});\n",
       "}}\n",
       "\n",
       "// Listen for the clearing of the current output cell\n",
       "var outputEl = gd.closest('.output');\n",
       "if (outputEl) {{\n",
       "    x.observe(outputEl, {childList: true});\n",
       "}}\n",
       "\n",
       "                        })                };                });            </script>        </div>"
      ]
     },
     "metadata": {},
     "output_type": "display_data"
    }
   ],
   "source": [
    "fig2=px.scatter(df1,x=\"Budget (float)\", y=\"imdb\",size=\"Running time (int)\", color=\"Country\",hover_name=\"title\",template='plotly_dark',title=\"Budget-Rating relation\",labels={'imdb':'Movie-Rating'})\n",
    "fig2"
   ]
  },
  {
   "cell_type": "code",
   "execution_count": 12,
   "metadata": {},
   "outputs": [],
   "source": [
    "card_content1 = [\n",
    "    \n",
    "    dbc.CardBody(\n",
    "        [\n",
    "            html.H5(\"Highest Rated Movie\"+\"♦\"+str(df1['imdb'].max()), className=\"card-title\",style={'font-weight':'bold','font-size':'21','font-color':'blue'}),\n",
    "            html.P(\n",
    "                df1[df1.imdb==df1['imdb'].max()].title.unique(),\n",
    "                className=\"card-text\",\n",
    "            ),\n",
    "        ]\n",
    "    ), \n",
    "]\n",
    "card_content2 = [\n",
    "    \n",
    "    dbc.CardBody(\n",
    "        [\n",
    "            html.H5(\"Director of best-rating Movie\", className=\"card-title\",style={'font-weight':'bold'}),\n",
    "            html.P(\n",
    "                df1[df1.imdb==df1['imdb'].max()].director.unique(),\n",
    "                className=\"card-text\",\n",
    "            ),\n",
    "        ]\n",
    "    ), \n",
    "]\n",
    "\n",
    "card_content3 = [\n",
    "    \n",
    "    dbc.CardBody(\n",
    "        [\n",
    "            html.H5(\"Best-Profit Movie\"+\":\"+\"$\"+str(df1['profit'].max()/1000000000)+\"B\", className=\"card-title\",style={'font-weight':'bold'}),\n",
    "            html.P(\n",
    "                df1[df1.profit==df1['profit'].max()].title,\n",
    "                className=\"card-text\",\n",
    "            ),\n",
    "        ]\n",
    "    ), \n",
    "]\n"
   ]
  },
  {
   "cell_type": "code",
   "execution_count": 13,
   "metadata": {},
   "outputs": [],
   "source": [
    "app.layout = html.Div(\n",
    "    [   \n",
    "        \n",
    "        html.Img(src='./assets/dis.webp',style={'padding-left':'37%','width':'60%'})\n",
    "        ,\n",
    "        \n",
    "        dbc.Row([  \n",
    "                dbc.Col(dbc.Card(card_content1, color=\"primary\", inverse=True), \n",
    "\t\t\t\t\t\tstyle = {'padding-left' : '30%'}),\n",
    "                dbc.Col(dbc.Card(card_content2, color=\"danger\", inverse=True)),\n",
    "                dbc.Col(dbc.Card(card_content3, color=\"info\", inverse=True),\n",
    "\t\t\t\t\t\tstyle = {'padding-right' : '30%'}),\n",
    "               \n",
    "            ],\n",
    "            className=\"mb-4\",  \n",
    "            style={'padding-top':'1%'},\n",
    "        ),\n",
    "        \n",
    "        dbc.Row(\n",
    "                 [ \n",
    "                        dcc.Graph(id='myGraph'),               \n",
    "            ], \n",
    "        style={'padding-right':'4%','padding-left':'4%'}\n",
    "        ),\n",
    "        dbc.Row(\n",
    "              dcc.Slider(\n",
    "                                    id='my-slider',\n",
    "                                    min=1990 ,\n",
    "                                    max=df1['year'].max(),\n",
    "                                    value=None,\n",
    "                                    step=None,\n",
    "             marks={str(years):str(years) for years in df1['year'].unique()}\n",
    "              ), style={\"padding-top\":\"1%\",\"padding-bottom\":\"0.5%\"},\n",
    "        ),\n",
    "    ]\n",
    ")\n"
   ]
  },
  {
   "cell_type": "code",
   "execution_count": 14,
   "metadata": {},
   "outputs": [
    {
     "name": "stdout",
     "output_type": "stream",
     "text": [
      "Dash app running on http://127.0.0.1:8050/\n"
     ]
    }
   ],
   "source": [
    "@app.callback(\n",
    "    Output('myGraph','figure'),\n",
    "    Input('my-slider','value'))\n",
    "def update_graph(slidervalue):\n",
    "    if slidervalue:\n",
    "        filtered_df=df1[df1.year==slidervalue]\n",
    "        fig=px.scatter(filtered_df,x=\"Budget (float)\", y=\"imdb\", \n",
    "        size=\"Running time (int)\", color=\"Country\", hover_name=\"title\",template='plotly_dark',title=\"Budget-Rating relation\",labels={'imdb':'Movie-Rating'})\n",
    "         \n",
    "    else:\n",
    "        fig=fig2\n",
    "        \n",
    "    return fig\n",
    "\n",
    "if __name__ == \"__main__\":\n",
    "    app.run_server(port=8050)"
   ]
  },
  {
   "cell_type": "code",
   "execution_count": null,
   "metadata": {},
   "outputs": [],
   "source": []
  },
  {
   "cell_type": "code",
   "execution_count": null,
   "metadata": {},
   "outputs": [],
   "source": []
  },
  {
   "cell_type": "code",
   "execution_count": null,
   "metadata": {},
   "outputs": [],
   "source": []
  }
 ],
 "metadata": {
  "kernelspec": {
   "display_name": "Python 3 (ipykernel)",
   "language": "python",
   "name": "python3"
  },
  "language_info": {
   "codemirror_mode": {
    "name": "ipython",
    "version": 3
   },
   "file_extension": ".py",
   "mimetype": "text/x-python",
   "name": "python",
   "nbconvert_exporter": "python",
   "pygments_lexer": "ipython3",
   "version": "3.9.7"
  }
 },
 "nbformat": 4,
 "nbformat_minor": 4
}
